{
 "metadata": {
  "name": "",
  "signature": "sha256:8303f27f0df721d954bc3c33bfa6ded6a8bc82135755deaeece9520a3da9902d"
 },
 "nbformat": 3,
 "nbformat_minor": 0,
 "worksheets": [
  {
   "cells": [
    {
     "cell_type": "code",
     "collapsed": false,
     "input": [
      "import pandas as pd\n",
      "import numpy as np\n",
      "import glob\n",
      "import re\n",
      "import unicodedata\n",
      "import string\n",
      "import long_err_bp_pulse_fxn as lebp"
     ],
     "language": "python",
     "metadata": {},
     "outputs": []
    },
    {
     "cell_type": "code",
     "collapsed": false,
     "input": [
      "response_file = \"bad.txt\"\n",
      "read_into_dataframe(\"bad.txt\")"
     ],
     "language": "python",
     "metadata": {},
     "outputs": []
    },
    {
     "cell_type": "code",
     "collapsed": false,
     "input": [
      "get_dataframe(\"bad.txt\")"
     ],
     "language": "python",
     "metadata": {},
     "outputs": []
    },
    {
     "cell_type": "markdown",
     "metadata": {},
     "source": [
      "response_file = \"bad.txt\"\n",
      "df = get_dataframe(response_file)\n",
      "df = get_cols_of_interest(df)\n",
      "df"
     ]
    },
    {
     "cell_type": "code",
     "collapsed": false,
     "input": [
      "df = get_dataframe(\"bad.txt\")\n",
      "print(df)\n",
      "df['participant_response'] = df['participant_response'].str.replace('\\\\x1b\\[D', '')\n",
      "df['participant_response'] = df['participant_response'].str.replace('\\\\x1b\\[A', '').astype(int)\n",
      "df"
     ],
     "language": "python",
     "metadata": {},
     "outputs": []
    },
    {
     "cell_type": "code",
     "collapsed": false,
     "input": [
      "df['respondent'] = response_file\n",
      "df"
     ],
     "language": "python",
     "metadata": {},
     "outputs": []
    },
    {
     "cell_type": "code",
     "collapsed": false,
     "input": [
      "total_abs_error, total_abs_obs = get_totals(response_file)"
     ],
     "language": "python",
     "metadata": {},
     "outputs": []
    },
    {
     "cell_type": "code",
     "collapsed": false,
     "input": [
      "df['total_abs_error'], df['total_abs_obs'] = total_abs_error, total_abs_obs\n",
      "df_all = df_all.append(df)\n",
      "print(response_file, ' finish')"
     ],
     "language": "python",
     "metadata": {},
     "outputs": []
    },
    {
     "cell_type": "code",
     "collapsed": false,
     "input": [],
     "language": "python",
     "metadata": {},
     "outputs": []
    }
   ],
   "metadata": {}
  }
 ]
}