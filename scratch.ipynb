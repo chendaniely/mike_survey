{
 "metadata": {
  "name": "",
  "signature": "sha256:8303f27f0df721d954bc3c33bfa6ded6a8bc82135755deaeece9520a3da9902d"
 },
 "nbformat": 3,
 "nbformat_minor": 0,
 "worksheets": [
  {
   "cells": [
    {
     "cell_type": "code",
     "collapsed": false,
     "input": [
      "import pandas as pd\n",
      "import numpy as np\n",
      "import glob\n",
      "import re\n",
      "import unicodedata\n",
      "import string\n",
      "\n",
      "def data_set_column_names():\n",
      "    colnames = ['time', 'orgi_trial', 'adv', 'mksh', 'revg', 'price_d', 'price_r', 'estm_orig', 'time_r', \n",
      "                'participant_response', 'condition_number', \n",
      "                'bp_s', 'bp_d', 'pulse']\n",
      "    assert isinstance(colnames, list)\n",
      "    return colnames\n",
      "\n",
      "def read_into_dataframe(response_file):\n",
      "    return pd.read_csv(response_file, names = data_set_column_names())\n",
      "\n",
      "def read_into_dataframe(response_file):\n",
      "    return pd.read_csv(response_file, names = data_set_column_names())\n",
      "\n",
      "def generate_sections():\n",
      "    my_list = []\n",
      "    for i in range(12):\n",
      "        for j in range(15):\n",
      "            my_list.append(i)\n",
      "    assert len(my_list) == 180\n",
      "    return pd.DataFrame(my_list, columns=['section_number'])\n",
      "\n",
      "def get_dataframe(response_file):\n",
      "    data = read_into_dataframe(response_file)\n",
      "    data = data.applymap(lambda x: np.nan if x == \"None\" else x)\n",
      "    return data\n",
      "\n",
      "def get_cols_of_interest(df):\n",
      "    col_of_interest = ['price_r', 'participant_response', 'condition_number', 'bp_d', 'bp_s', 'pulse']\n",
      "    assert isinstance(col_of_interest, list)\n",
      "    data_of_interest = df[col_of_interest]\n",
      "    return data_of_interest\n",
      "\n",
      "def strip_non_numeric_characters(user_input):\n",
      "    non_decimal = re.compile(r'[^\\d.]+')\n",
      "    return non_decimal.sub('', user_input)\n",
      "\n",
      "def remove_control_characters(df):\n",
      "    df['participant_response'] = df['participant_response'].str.replace('\\[D', '')\n",
      "    df['participant_response'] = df['participant_response'].str.replace('\\[A', '')\n",
      "    return df\n",
      "\n",
      "def clean_dataframe(df):\n",
      "    # print(df.head(n = 20))\n",
      "    df = remove_control_characters(df)\n",
      "    \n",
      "    # remove non numeric numbers\n",
      "    non_decimal = re.compile(r'[^\\d.]+')\n",
      "    df['participant_response'] = df['participant_response'].map(lambda x: non_decimal.sub('', str(x)))\n",
      "    \n",
      "    # replace empty strings with nan\n",
      "    df['participant_response'] = df['participant_response'].replace('', np.nan)\n",
      "\n",
      "    # df['participant_response'] = df['participant_response'].map(lambda x: float(x.strip()))\n",
      "\n",
      "    # df.to_csv(\"temp_df.csv\")\n",
      "    # df['abs_error'] = abs(df['price_r'].astype(float) - df['participant_response'].astype(float))\n",
      "    df['abs_error'] = abs(df['price_r'].convert_objects(convert_dates=False, convert_numeric=True) - \n",
      "                          df['participant_response'].convert_objects(convert_dates=False, convert_numeric=True))\n",
      "\n",
      "    data_with_group = pd.concat([df, generate_sections()], axis=1)\n",
      "\n",
      "    # get average error per section\n",
      "    avg_abs_error = pd.DataFrame(data_with_group.groupby('section_number').agg({'abs_error':np.mean}))\n",
      "    # avg_abs_error = pd.DataFrame(data_with_group.groupby('section_number').mean())\n",
      "\n",
      "    # aet condition number, bp, pulse and section number\n",
      "    data_drop_na = data_with_group\n",
      "    data_drop_na = data_drop_na.dropna()[['condition_number', 'bp_d', 'bp_s', 'pulse', 'section_number']]\n",
      "\n",
      "    # concatenate the average time by ending time results\n",
      "    avg_abs_error.index.name = 'section_number'\n",
      "    avg_abs_error.reset_index(inplace=True)\n",
      "    \n",
      "    data_merged = pd.merge(avg_abs_error, data_drop_na, on='section_number')\n",
      "    return data_merged\n",
      "\n",
      "def get_totals(response_file):\n",
      "    df = get_dataframe(response_file)\n",
      "    df = get_cols_of_interest(df)\n",
      "    df = remove_control_characters(df)\n",
      "\n",
      "    # remove non numeric numbers\n",
      "    non_decimal = re.compile(r'[^\\d.]+')\n",
      "    df['participant_response'] = df['participant_response'].map(lambda x: non_decimal.sub('', str(x)))\n",
      "    \n",
      "    # replace empty strings with nan\n",
      "    df['participant_response'] = df['participant_response'].replace('', np.nan)\n",
      "    \n",
      "    print(df)\n",
      "    \n",
      "    df['abs_error'] = abs(df['price_r'].astype(float) - df['participant_response'].astype(float))\n",
      "    print(df)\n",
      "    sum_abs_error = df['abs_error'].astype(float).sum(axis=2)\n",
      "    sum_obs = df['participant_response'].count()\n",
      "    return sum_abs_error, sum_obs"
     ],
     "language": "python",
     "metadata": {},
     "outputs": []
    },
    {
     "cell_type": "code",
     "collapsed": false,
     "input": [
      "response_file = \"bad.txt\"\n",
      "read_into_dataframe(\"bad.txt\")"
     ],
     "language": "python",
     "metadata": {},
     "outputs": []
    },
    {
     "cell_type": "code",
     "collapsed": false,
     "input": [
      "get_dataframe(\"bad.txt\")"
     ],
     "language": "python",
     "metadata": {},
     "outputs": []
    },
    {
     "cell_type": "markdown",
     "metadata": {},
     "source": [
      "response_file = \"bad.txt\"\n",
      "df = get_dataframe(response_file)\n",
      "df = get_cols_of_interest(df)\n",
      "df"
     ]
    },
    {
     "cell_type": "code",
     "collapsed": false,
     "input": [
      "df = get_dataframe(\"bad.txt\")\n",
      "print(df)\n",
      "df['participant_response'] = df['participant_response'].str.replace('\\\\x1b\\[D', '')\n",
      "df['participant_response'] = df['participant_response'].str.replace('\\\\x1b\\[A', '').astype(int)\n",
      "df"
     ],
     "language": "python",
     "metadata": {},
     "outputs": []
    },
    {
     "cell_type": "code",
     "collapsed": false,
     "input": [
      "df['respondent'] = response_file\n",
      "df"
     ],
     "language": "python",
     "metadata": {},
     "outputs": []
    },
    {
     "cell_type": "code",
     "collapsed": false,
     "input": [
      "total_abs_error, total_abs_obs = get_totals(response_file)"
     ],
     "language": "python",
     "metadata": {},
     "outputs": []
    },
    {
     "cell_type": "code",
     "collapsed": false,
     "input": [
      "df['total_abs_error'], df['total_abs_obs'] = total_abs_error, total_abs_obs\n",
      "df_all = df_all.append(df)\n",
      "print(response_file, ' finish')"
     ],
     "language": "python",
     "metadata": {},
     "outputs": []
    },
    {
     "cell_type": "code",
     "collapsed": false,
     "input": [],
     "language": "python",
     "metadata": {},
     "outputs": []
    }
   ],
   "metadata": {}
  }
 ]
}