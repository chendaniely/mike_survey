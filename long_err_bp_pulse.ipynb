{
 "metadata": {
  "name": "",
  "signature": "sha256:cef93fe43ef257981bafcdb8982476c5186f78beee31e0cbb461fc11e604d8dc"
 },
 "nbformat": 3,
 "nbformat_minor": 0,
 "worksheets": [
  {
   "cells": [
    {
     "cell_type": "code",
     "collapsed": false,
     "input": [
      "import pandas as pd\n",
      "import numpy as np\n",
      "import glob\n",
      "import re\n",
      "import unicodedata\n",
      "import string\n",
      "import long_err_bp_pulse_fxn as lebp"
     ],
     "language": "python",
     "metadata": {},
     "outputs": []
    },
    {
     "cell_type": "code",
     "collapsed": false,
     "input": [
      "response_files = glob.glob(\"*.txt\")\n",
      "response_files"
     ],
     "language": "python",
     "metadata": {},
     "outputs": []
    },
    {
     "cell_type": "code",
     "collapsed": false,
     "input": [
      "df_all = pd.DataFrame()\n",
      "for response_file in response_files:\n",
      "    print(response_file, ' start')\n",
      "    df = get_dataframe(response_file)\n",
      "    df = get_cols_of_interest(df)\n",
      "    df = clean_dataframe(df)\n",
      "    df['respondent'] = response_file\n",
      "    \n",
      "    total_abs_error, total_abs_obs = get_totals(response_file)\n",
      "    df['total_abs_error'], df['total_abs_obs'] = total_abs_error, total_abs_obs\n",
      "    df_all = df_all.append(df)\n",
      "    print(response_file, ' finish')\n",
      "df_all"
     ],
     "language": "python",
     "metadata": {},
     "outputs": []
    },
    {
     "cell_type": "code",
     "collapsed": false,
     "input": [
      "final = df_all.pivot('respondent', 'section_number')\n",
      "final"
     ],
     "language": "python",
     "metadata": {},
     "outputs": []
    },
    {
     "cell_type": "code",
     "collapsed": false,
     "input": [
      "final.to_csv(\"bp_pulse.csv\")"
     ],
     "language": "python",
     "metadata": {},
     "outputs": []
    },
    {
     "cell_type": "code",
     "collapsed": false,
     "input": [],
     "language": "python",
     "metadata": {},
     "outputs": []
    }
   ],
   "metadata": {}
  }
 ]
}