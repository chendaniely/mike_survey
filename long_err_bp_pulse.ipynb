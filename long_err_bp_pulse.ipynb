{
 "metadata": {
  "name": "",
  "signature": "sha256:52e1c0e87f9851d4d36e11e685096b998b685e2310c32e2cc354cd1edf7b9cf3"
 },
 "nbformat": 3,
 "nbformat_minor": 0,
 "worksheets": [
  {
   "cells": [
    {
     "cell_type": "code",
     "collapsed": false,
     "input": [
      "import pandas as pd\n",
      "import numpy as np\n",
      "import glob\n",
      "import re"
     ],
     "language": "python",
     "metadata": {},
     "outputs": [],
     "prompt_number": 65
    },
    {
     "cell_type": "code",
     "collapsed": false,
     "input": [
      "response_files = glob.glob(\"*.txt\")\n",
      "response_files"
     ],
     "language": "python",
     "metadata": {},
     "outputs": [
      {
       "metadata": {},
       "output_type": "pyout",
       "prompt_number": 66,
       "text": [
        "['Salisbury_A45745437.txt',\n",
        " 'Scott_Z8382738.txt',\n",
        " 'ZZ.txt',\n",
        " 'ZZZ.txt',\n",
        " 'ZZZZ.txt',\n",
        " 'ZZZZZ.txt',\n",
        " 'ZZZZZZ.txt',\n",
        " 'ZZZZZZZ.txt',\n",
        " 'ZZZZZZZZ.txt',\n",
        " 'ZZZZZZZZZ.txt',\n",
        " 'ZZZZZZZZZZ.txt',\n",
        " 'ZZZZZZZZZZZ.txt',\n",
        " 'ZZZZZZZZZZZZ.txt',\n",
        " 'ZZZZZZZZZZZZZ.txt',\n",
        " 'ZZZZZZZZZZZZZZ.txt',\n",
        " 'ZZZZZZZZZZZZZZZ.txt']"
       ]
      }
     ],
     "prompt_number": 66
    },
    {
     "cell_type": "code",
     "collapsed": false,
     "input": [
      "def data_set_column_names():\n",
      "    colnames = ['time', 'orgi_trial', 'adv', 'mksh', 'revg', 'price_d', 'price_r', 'estm_orig', 'time_r', \n",
      "                'participant_response', 'condition_number', \n",
      "                'bp_s', 'bp_d', 'pulse']\n",
      "    assert isinstance(colnames, list)\n",
      "    return colnames"
     ],
     "language": "python",
     "metadata": {},
     "outputs": [],
     "prompt_number": 67
    },
    {
     "cell_type": "code",
     "collapsed": false,
     "input": [
      "def read_into_dataframe(response_file):\n",
      "    return pd.read_csv(response_file, names = data_set_column_names())"
     ],
     "language": "python",
     "metadata": {},
     "outputs": [],
     "prompt_number": 68
    },
    {
     "cell_type": "code",
     "collapsed": false,
     "input": [
      "def generate_sections():\n",
      "    my_list = []\n",
      "    for i in range(12):\n",
      "        for j in range(15):\n",
      "            my_list.append(i)\n",
      "    assert len(my_list) == 180\n",
      "    return pd.DataFrame(my_list, columns=['section_number'])"
     ],
     "language": "python",
     "metadata": {},
     "outputs": [],
     "prompt_number": 69
    },
    {
     "cell_type": "code",
     "collapsed": false,
     "input": [
      "def get_dataframe(response_file):\n",
      "    data = read_into_dataframe(response_file)\n",
      "    data = data.applymap(lambda x: np.nan if x == \"None\" else x)\n",
      "    return data"
     ],
     "language": "python",
     "metadata": {},
     "outputs": [],
     "prompt_number": 70
    },
    {
     "cell_type": "code",
     "collapsed": false,
     "input": [
      "def get_cols_of_interest(df):\n",
      "    col_of_interest = ['price_r', 'participant_response', 'condition_number', 'bp_d', 'bp_s', 'pulse']\n",
      "    assert isinstance(col_of_interest, list)\n",
      "    data_of_interest = df[col_of_interest]\n",
      "    return data_of_interest"
     ],
     "language": "python",
     "metadata": {},
     "outputs": [],
     "prompt_number": 71
    },
    {
     "cell_type": "code",
     "collapsed": false,
     "input": [
      "def strip_non_numeric_characters(vector):\n",
      "    non_decimal = re.compile(r'[^\\d.]+')\n",
      "    print(vector)\n",
      "    cleaned_list = list(non_decimal.sub('', x) for x in vector)\n",
      "    cleaned_vector = np.array(cleaned_list)\n",
      "    print(cleaned_vector)\n",
      "    return cleaned_vector"
     ],
     "language": "python",
     "metadata": {},
     "outputs": [],
     "prompt_number": 72
    },
    {
     "cell_type": "code",
     "collapsed": false,
     "input": [
      "def clean_dataframe(df):\n",
      "    print(df.head())\n",
      "    # df['price_r'] = df['price_r'].str.replace('\\\\', '')                                              \n",
      "    df['participant_response'] = df['participant_response'].map(lambda x: str(x).replace('\\\\', ''))\n",
      "    # df['participant_response'] = df['participant_response'].apply(strip_non_numeric_characters)\n",
      "    \n",
      "    df['abs_error'] = abs(df['price_r'].astype(float) - df['participant_response'].astype(float))\n",
      "    \n",
      "    data_with_group = pd.concat([df, generate_sections()], axis=1)\n",
      "\n",
      "    # get average error per section\n",
      "    avg_abs_error = pd.DataFrame(data_with_group.groupby('section_number').agg({'abs_error':np.mean}))\n",
      "    # avg_abs_error = pd.DataFrame(data_with_group.groupby('section_number').mean())\n",
      "\n",
      "    # aet condition number, bp, pulse and section number\n",
      "    data_drop_na = data_with_group\n",
      "    data_drop_na = data_drop_na.dropna()[['condition_number', 'bp_d', 'bp_s', 'pulse', 'section_number']]\n",
      "\n",
      "    # concatenate the average time by ending time results\n",
      "    avg_abs_error.index.name = 'section_number'\n",
      "    avg_abs_error.reset_index(inplace=True)\n",
      "    \n",
      "    data_merged = pd.merge(avg_abs_error, data_drop_na, on='section_number')\n",
      "    return data_merged"
     ],
     "language": "python",
     "metadata": {},
     "outputs": [],
     "prompt_number": 102
    },
    {
     "cell_type": "code",
     "collapsed": false,
     "input": [
      "def get_totals(response_file):\n",
      "    df = get_dataframe(response_file)\n",
      "    df = get_cols_of_interest(df)\n",
      "    # following line of code is copied from the clean_dataframe function\n",
      "    df['participant_response'] = df['participant_response'].map(lambda x: str(x).replace('\\\\', ''))\n",
      "    \n",
      "    df['abs_error'] = abs(df['price_r'].astype(float) - df['participant_response'].astype(float))\n",
      "    sum_abs_error = df['abs_error'].astype(float).sum(axis=2)\n",
      "    sum_obs = df['participant_response'].count()\n",
      "    return sum_abs_error, sum_obs"
     ],
     "language": "python",
     "metadata": {},
     "outputs": [],
     "prompt_number": 103
    },
    {
     "cell_type": "code",
     "collapsed": false,
     "input": [
      "df_all = pd.DataFrame()\n",
      "for response_file in response_files:\n",
      "    print(response_file, ' start')\n",
      "    df = get_dataframe(response_file)\n",
      "    df = get_cols_of_interest(df)\n",
      "    df = clean_dataframe(df)\n",
      "    df['respondent'] = response_file\n",
      "    total_abs_error, total_abs_obs = get_totals(response_file)\n",
      "    df['total_abs_error'], df['total_abs_obs'] = total_abs_error, total_abs_obs\n",
      "    df_all = df_all.append(df)\n",
      "    print(response_file, ' finish')\n",
      "df_all"
     ],
     "language": "python",
     "metadata": {},
     "outputs": [
      {
       "output_type": "stream",
       "stream": "stdout",
       "text": [
        "('Salisbury_A45745437.txt', ' start')\n",
        "   price_r  participant_response  condition_number  bp_d  bp_s  pulse\n",
        "0      161                   160               NaN   NaN   NaN    NaN\n",
        "1       98                    95               NaN   NaN   NaN    NaN\n",
        "2       68                   130               NaN   NaN   NaN    NaN\n",
        "3       35                    55               NaN   NaN   NaN    NaN\n",
        "4       50                    70               NaN   NaN   NaN    NaN\n",
        "('Salisbury_A45745437.txt', ' finish')"
       ]
      },
      {
       "output_type": "stream",
       "stream": "stdout",
       "text": [
        "\n",
        "('Scott_Z8382738.txt', ' start')\n",
        "   price_r participant_response  condition_number  bp_d  bp_s  pulse\n",
        "0       32                   70               NaN   NaN   NaN    NaN\n",
        "1      108                  115               NaN   NaN   NaN    NaN\n",
        "2       26                   22               NaN   NaN   NaN    NaN\n",
        "3       36                   35               NaN   NaN   NaN    NaN\n",
        "4       73                   95               NaN   NaN   NaN    NaN\n",
        "('Scott_Z8382738.txt', ' finish')"
       ]
      },
      {
       "output_type": "stream",
       "stream": "stdout",
       "text": [
        "\n",
        "('ZZ.txt', ' start')\n",
        "   price_r  participant_response  condition_number  bp_d  bp_s  pulse\n",
        "0      156                   100               NaN   NaN   NaN    NaN\n",
        "1      185                    90               NaN   NaN   NaN    NaN\n",
        "2      162                   150               NaN   NaN   NaN    NaN\n",
        "3       55                    50               NaN   NaN   NaN    NaN\n",
        "4       89                   150               NaN   NaN   NaN    NaN\n",
        "('ZZ.txt', ' finish')"
       ]
      },
      {
       "output_type": "stream",
       "stream": "stdout",
       "text": [
        "\n",
        "('ZZZ.txt', ' start')\n",
        "   price_r participant_response  condition_number  bp_d  bp_s  pulse\n",
        "0       83                  130               NaN   NaN   NaN    NaN\n",
        "1      162                  100               NaN   NaN   NaN    NaN\n",
        "2      150                  100               NaN   NaN   NaN    NaN\n",
        "3       26                 160\\               NaN   NaN   NaN    NaN\n",
        "4      166                  170               NaN   NaN   NaN    NaN\n",
        "('ZZZ.txt', ' finish')"
       ]
      },
      {
       "output_type": "stream",
       "stream": "stdout",
       "text": [
        "\n",
        "('ZZZZ.txt', ' start')\n",
        "   price_r  participant_response  condition_number  bp_d  bp_s  pulse\n",
        "0       38                    90               NaN   NaN   NaN    NaN\n",
        "1      144                   100               NaN   NaN   NaN    NaN\n",
        "2       88                    60               NaN   NaN   NaN    NaN\n",
        "3      165                   150               NaN   NaN   NaN    NaN\n",
        "4      119                   120               NaN   NaN   NaN    NaN\n",
        "('ZZZZ.txt', ' finish')"
       ]
      },
      {
       "output_type": "stream",
       "stream": "stdout",
       "text": [
        "\n",
        "('ZZZZZ.txt', ' start')\n",
        "   price_r participant_response  condition_number  bp_d  bp_s  pulse\n",
        "0       82                  120               NaN   NaN   NaN    NaN\n",
        "1       33                   90               NaN   NaN   NaN    NaN\n",
        "2      138                   90               NaN   NaN   NaN    NaN\n",
        "3      161                  150               NaN   NaN   NaN    NaN\n",
        "4      129                  130               NaN   NaN   NaN    NaN\n",
        "('ZZZZZ.txt', ' finish')"
       ]
      },
      {
       "output_type": "stream",
       "stream": "stdout",
       "text": [
        "\n",
        "('ZZZZZZ.txt', ' start')\n",
        "   price_r participant_response  condition_number  bp_d  bp_s  pulse\n",
        "0       90                  119               NaN   NaN   NaN    NaN\n",
        "1       42                   60               NaN   NaN   NaN    NaN\n",
        "2      121                   80               NaN   NaN   NaN    NaN\n",
        "3       82                   40               NaN   NaN   NaN    NaN\n",
        "4       81                  100               NaN   NaN   NaN    NaN\n",
        "('ZZZZZZ.txt', ' finish')"
       ]
      },
      {
       "output_type": "stream",
       "stream": "stdout",
       "text": [
        "\n",
        "('ZZZZZZZ.txt', ' start')\n",
        "   price_r participant_response  condition_number  bp_d  bp_s  pulse\n",
        "0      141                  100               NaN   NaN   NaN    NaN\n",
        "1       35                   55               NaN   NaN   NaN    NaN\n",
        "2      128                  135               NaN   NaN   NaN    NaN\n",
        "3       63                   85               NaN   NaN   NaN    NaN\n",
        "4      128                   90               NaN   NaN   NaN    NaN\n",
        "('ZZZZZZZ.txt', ' finish')"
       ]
      },
      {
       "output_type": "stream",
       "stream": "stdout",
       "text": [
        "\n",
        "('ZZZZZZZZ.txt', ' start')\n",
        "   price_r participant_response  condition_number  bp_d  bp_s  pulse\n",
        "0       89                  105               NaN   NaN   NaN    NaN\n",
        "1       31                  NaN               NaN   NaN   NaN    NaN\n",
        "2       85                   85               NaN   NaN   NaN    NaN\n",
        "3      129                  139               NaN   NaN   NaN    NaN\n",
        "4      105                   90               NaN   NaN   NaN    NaN\n",
        "('ZZZZZZZZ.txt', ' finish')"
       ]
      },
      {
       "output_type": "stream",
       "stream": "stdout",
       "text": [
        "\n",
        "('ZZZZZZZZZ.txt', ' start')\n",
        "   price_r  participant_response  condition_number  bp_d  bp_s  pulse\n",
        "0      130                   110               NaN   NaN   NaN    NaN\n",
        "1       78                    78               NaN   NaN   NaN    NaN\n",
        "2       71                   140               NaN   NaN   NaN    NaN\n",
        "3       76                    80               NaN   NaN   NaN    NaN\n",
        "4       33                    85               NaN   NaN   NaN    NaN\n",
        "('ZZZZZZZZZ.txt', ' finish')"
       ]
      },
      {
       "output_type": "stream",
       "stream": "stdout",
       "text": [
        "\n",
        "('ZZZZZZZZZZ.txt', ' start')\n",
        "   price_r  participant_response  condition_number  bp_d  bp_s  pulse\n",
        "0       35                   118               NaN   NaN   NaN    NaN\n",
        "1       75                    80               NaN   NaN   NaN    NaN\n",
        "2      127                   110               NaN   NaN   NaN    NaN\n",
        "3       42                    38               NaN   NaN   NaN    NaN\n",
        "4       77                    66               NaN   NaN   NaN    NaN\n",
        "('ZZZZZZZZZZ.txt', ' finish')"
       ]
      },
      {
       "output_type": "stream",
       "stream": "stdout",
       "text": [
        "\n",
        "('ZZZZZZZZZZZ.txt', ' start')\n",
        "   price_r  participant_response  condition_number  bp_d  bp_s  pulse\n",
        "0       90                   120               NaN   NaN   NaN    NaN\n",
        "1       38                    70               NaN   NaN   NaN    NaN\n",
        "2      131                    80               NaN   NaN   NaN    NaN\n",
        "3       68                   100               NaN   NaN   NaN    NaN\n",
        "4      103                   110               NaN   NaN   NaN    NaN\n",
        "('ZZZZZZZZZZZ.txt', ' finish')"
       ]
      },
      {
       "output_type": "stream",
       "stream": "stdout",
       "text": [
        "\n",
        "('ZZZZZZZZZZZZ.txt', ' start')\n",
        "   price_r participant_response  condition_number  bp_d  bp_s  pulse\n",
        "0      153                  120               NaN   NaN   NaN    NaN\n",
        "1      108                  140               NaN   NaN   NaN    NaN\n",
        "2      133                  120               NaN   NaN   NaN    NaN\n",
        "3      127                  135               NaN   NaN   NaN    NaN\n",
        "4      129                  118               NaN   NaN   NaN    NaN\n",
        "('ZZZZZZZZZZZZ.txt', ' finish')"
       ]
      },
      {
       "output_type": "stream",
       "stream": "stdout",
       "text": [
        "\n",
        "('ZZZZZZZZZZZZZ.txt', ' start')\n",
        "   price_r  participant_response  condition_number  bp_d  bp_s  pulse\n",
        "0      115                   100               NaN   NaN   NaN    NaN\n",
        "1      119                   110               NaN   NaN   NaN    NaN\n",
        "2       98                   100               NaN   NaN   NaN    NaN\n",
        "3       26                   120               NaN   NaN   NaN    NaN\n",
        "4       57                    34               NaN   NaN   NaN    NaN\n",
        "('ZZZZZZZZZZZZZ.txt', ' finish')"
       ]
      },
      {
       "output_type": "stream",
       "stream": "stdout",
       "text": [
        "\n",
        "('ZZZZZZZZZZZZZZ.txt', ' start')\n",
        "   price_r  participant_response  condition_number  bp_d  bp_s  pulse\n",
        "0      134                   120               NaN   NaN   NaN    NaN\n",
        "1       81                   120               NaN   NaN   NaN    NaN\n",
        "2      161                   100               NaN   NaN   NaN    NaN\n",
        "3      145                   140               NaN   NaN   NaN    NaN\n",
        "4       73                    75               NaN   NaN   NaN    NaN\n",
        "('ZZZZZZZZZZZZZZ.txt', ' finish')"
       ]
      },
      {
       "output_type": "stream",
       "stream": "stdout",
       "text": [
        "\n",
        "('ZZZZZZZZZZZZZZZ.txt', ' start')\n",
        "   price_r  participant_response  condition_number  bp_d  bp_s  pulse\n",
        "0       30                    70               NaN   NaN   NaN    NaN\n",
        "1       57                    72               NaN   NaN   NaN    NaN\n",
        "2      129                   120               NaN   NaN   NaN    NaN\n",
        "3       65                    77               NaN   NaN   NaN    NaN\n",
        "4      156                   156               NaN   NaN   NaN    NaN\n",
        "('ZZZZZZZZZZZZZZZ.txt', ' finish')"
       ]
      },
      {
       "output_type": "stream",
       "stream": "stdout",
       "text": [
        "\n"
       ]
      },
      {
       "html": [
        "<div style=\"max-height:1000px;max-width:1500px;overflow:auto;\">\n",
        "<table border=\"1\" class=\"dataframe\">\n",
        "  <thead>\n",
        "    <tr style=\"text-align: right;\">\n",
        "      <th></th>\n",
        "      <th>section_number</th>\n",
        "      <th>abs_error</th>\n",
        "      <th>condition_number</th>\n",
        "      <th>bp_d</th>\n",
        "      <th>bp_s</th>\n",
        "      <th>pulse</th>\n",
        "      <th>respondent</th>\n",
        "      <th>total_abs_error</th>\n",
        "      <th>total_abs_obs</th>\n",
        "    </tr>\n",
        "  </thead>\n",
        "  <tbody>\n",
        "    <tr>\n",
        "      <th>0 </th>\n",
        "      <td>  0</td>\n",
        "      <td>    18.333333</td>\n",
        "      <td> 5</td>\n",
        "      <td>  73</td>\n",
        "      <td>  97</td>\n",
        "      <td> 81</td>\n",
        "      <td> Salisbury_A45745437.txt</td>\n",
        "      <td>   2993</td>\n",
        "      <td> 180</td>\n",
        "    </tr>\n",
        "    <tr>\n",
        "      <th>1 </th>\n",
        "      <td>  1</td>\n",
        "      <td>    17.800000</td>\n",
        "      <td> 5</td>\n",
        "      <td>  56</td>\n",
        "      <td> 104</td>\n",
        "      <td> 80</td>\n",
        "      <td> Salisbury_A45745437.txt</td>\n",
        "      <td>   2993</td>\n",
        "      <td> 180</td>\n",
        "    </tr>\n",
        "    <tr>\n",
        "      <th>2 </th>\n",
        "      <td>  2</td>\n",
        "      <td>    11.600000</td>\n",
        "      <td> 5</td>\n",
        "      <td>  59</td>\n",
        "      <td>  99</td>\n",
        "      <td> 77</td>\n",
        "      <td> Salisbury_A45745437.txt</td>\n",
        "      <td>   2993</td>\n",
        "      <td> 180</td>\n",
        "    </tr>\n",
        "    <tr>\n",
        "      <th>3 </th>\n",
        "      <td>  3</td>\n",
        "      <td>    16.533333</td>\n",
        "      <td> 5</td>\n",
        "      <td>  60</td>\n",
        "      <td> 101</td>\n",
        "      <td> 79</td>\n",
        "      <td> Salisbury_A45745437.txt</td>\n",
        "      <td>   2993</td>\n",
        "      <td> 180</td>\n",
        "    </tr>\n",
        "    <tr>\n",
        "      <th>4 </th>\n",
        "      <td>  4</td>\n",
        "      <td>    20.533333</td>\n",
        "      <td> 5</td>\n",
        "      <td>  63</td>\n",
        "      <td>  99</td>\n",
        "      <td> 81</td>\n",
        "      <td> Salisbury_A45745437.txt</td>\n",
        "      <td>   2993</td>\n",
        "      <td> 180</td>\n",
        "    </tr>\n",
        "    <tr>\n",
        "      <th>5 </th>\n",
        "      <td>  5</td>\n",
        "      <td>    14.666667</td>\n",
        "      <td> 5</td>\n",
        "      <td>  69</td>\n",
        "      <td> 104</td>\n",
        "      <td> 81</td>\n",
        "      <td> Salisbury_A45745437.txt</td>\n",
        "      <td>   2993</td>\n",
        "      <td> 180</td>\n",
        "    </tr>\n",
        "    <tr>\n",
        "      <th>6 </th>\n",
        "      <td>  6</td>\n",
        "      <td>    24.666667</td>\n",
        "      <td> 5</td>\n",
        "      <td>  70</td>\n",
        "      <td> 110</td>\n",
        "      <td> 82</td>\n",
        "      <td> Salisbury_A45745437.txt</td>\n",
        "      <td>   2993</td>\n",
        "      <td> 180</td>\n",
        "    </tr>\n",
        "    <tr>\n",
        "      <th>7 </th>\n",
        "      <td>  7</td>\n",
        "      <td>     9.466667</td>\n",
        "      <td> 5</td>\n",
        "      <td>  68</td>\n",
        "      <td> 103</td>\n",
        "      <td> 78</td>\n",
        "      <td> Salisbury_A45745437.txt</td>\n",
        "      <td>   2993</td>\n",
        "      <td> 180</td>\n",
        "    </tr>\n",
        "    <tr>\n",
        "      <th>8 </th>\n",
        "      <td>  8</td>\n",
        "      <td>    17.333333</td>\n",
        "      <td> 5</td>\n",
        "      <td>  64</td>\n",
        "      <td> 103</td>\n",
        "      <td> 80</td>\n",
        "      <td> Salisbury_A45745437.txt</td>\n",
        "      <td>   2993</td>\n",
        "      <td> 180</td>\n",
        "    </tr>\n",
        "    <tr>\n",
        "      <th>9 </th>\n",
        "      <td>  9</td>\n",
        "      <td>    11.666667</td>\n",
        "      <td> 5</td>\n",
        "      <td>  66</td>\n",
        "      <td> 113</td>\n",
        "      <td> 86</td>\n",
        "      <td> Salisbury_A45745437.txt</td>\n",
        "      <td>   2993</td>\n",
        "      <td> 180</td>\n",
        "    </tr>\n",
        "    <tr>\n",
        "      <th>10</th>\n",
        "      <td> 10</td>\n",
        "      <td>    18.600000</td>\n",
        "      <td> 5</td>\n",
        "      <td>  70</td>\n",
        "      <td> 107</td>\n",
        "      <td> 85</td>\n",
        "      <td> Salisbury_A45745437.txt</td>\n",
        "      <td>   2993</td>\n",
        "      <td> 180</td>\n",
        "    </tr>\n",
        "    <tr>\n",
        "      <th>11</th>\n",
        "      <td> 11</td>\n",
        "      <td>    18.333333</td>\n",
        "      <td> 5</td>\n",
        "      <td>  74</td>\n",
        "      <td> 114</td>\n",
        "      <td> 82</td>\n",
        "      <td> Salisbury_A45745437.txt</td>\n",
        "      <td>   2993</td>\n",
        "      <td> 180</td>\n",
        "    </tr>\n",
        "    <tr>\n",
        "      <th>0 </th>\n",
        "      <td>  0</td>\n",
        "      <td>    17.428571</td>\n",
        "      <td> 4</td>\n",
        "      <td>  77</td>\n",
        "      <td> 121</td>\n",
        "      <td> 66</td>\n",
        "      <td>      Scott_Z8382738.txt</td>\n",
        "      <td> 186139</td>\n",
        "      <td> 180</td>\n",
        "    </tr>\n",
        "    <tr>\n",
        "      <th>1 </th>\n",
        "      <td>  1</td>\n",
        "      <td>    81.933333</td>\n",
        "      <td> 4</td>\n",
        "      <td>  80</td>\n",
        "      <td> 121</td>\n",
        "      <td> 70</td>\n",
        "      <td>      Scott_Z8382738.txt</td>\n",
        "      <td> 186139</td>\n",
        "      <td> 180</td>\n",
        "    </tr>\n",
        "    <tr>\n",
        "      <th>2 </th>\n",
        "      <td>  2</td>\n",
        "      <td> 12009.933333</td>\n",
        "      <td> 4</td>\n",
        "      <td>  82</td>\n",
        "      <td> 119</td>\n",
        "      <td> 68</td>\n",
        "      <td>      Scott_Z8382738.txt</td>\n",
        "      <td> 186139</td>\n",
        "      <td> 180</td>\n",
        "    </tr>\n",
        "    <tr>\n",
        "      <th>3 </th>\n",
        "      <td>  3</td>\n",
        "      <td>    19.200000</td>\n",
        "      <td> 4</td>\n",
        "      <td>  81</td>\n",
        "      <td> 123</td>\n",
        "      <td> 73</td>\n",
        "      <td>      Scott_Z8382738.txt</td>\n",
        "      <td> 186139</td>\n",
        "      <td> 180</td>\n",
        "    </tr>\n",
        "    <tr>\n",
        "      <th>4 </th>\n",
        "      <td>  4</td>\n",
        "      <td>    28.066667</td>\n",
        "      <td> 4</td>\n",
        "      <td>  75</td>\n",
        "      <td> 119</td>\n",
        "      <td> 68</td>\n",
        "      <td>      Scott_Z8382738.txt</td>\n",
        "      <td> 186139</td>\n",
        "      <td> 180</td>\n",
        "    </tr>\n",
        "    <tr>\n",
        "      <th>5 </th>\n",
        "      <td>  5</td>\n",
        "      <td>    84.600000</td>\n",
        "      <td> 4</td>\n",
        "      <td>  72</td>\n",
        "      <td>  96</td>\n",
        "      <td> 78</td>\n",
        "      <td>      Scott_Z8382738.txt</td>\n",
        "      <td> 186139</td>\n",
        "      <td> 180</td>\n",
        "    </tr>\n",
        "    <tr>\n",
        "      <th>6 </th>\n",
        "      <td>  6</td>\n",
        "      <td>    31.933333</td>\n",
        "      <td> 4</td>\n",
        "      <td>  85</td>\n",
        "      <td> 118</td>\n",
        "      <td> 70</td>\n",
        "      <td>      Scott_Z8382738.txt</td>\n",
        "      <td> 186139</td>\n",
        "      <td> 180</td>\n",
        "    </tr>\n",
        "    <tr>\n",
        "      <th>7 </th>\n",
        "      <td>  7</td>\n",
        "      <td>    16.533333</td>\n",
        "      <td> 4</td>\n",
        "      <td>  82</td>\n",
        "      <td> 136</td>\n",
        "      <td> 68</td>\n",
        "      <td>      Scott_Z8382738.txt</td>\n",
        "      <td> 186139</td>\n",
        "      <td> 180</td>\n",
        "    </tr>\n",
        "    <tr>\n",
        "      <th>8 </th>\n",
        "      <td>  8</td>\n",
        "      <td>    14.933333</td>\n",
        "      <td> 4</td>\n",
        "      <td>  66</td>\n",
        "      <td> 118</td>\n",
        "      <td> 65</td>\n",
        "      <td>      Scott_Z8382738.txt</td>\n",
        "      <td> 186139</td>\n",
        "      <td> 180</td>\n",
        "    </tr>\n",
        "    <tr>\n",
        "      <th>9 </th>\n",
        "      <td>  9</td>\n",
        "      <td>    31.866667</td>\n",
        "      <td> 4</td>\n",
        "      <td>  77</td>\n",
        "      <td> 115</td>\n",
        "      <td> 72</td>\n",
        "      <td>      Scott_Z8382738.txt</td>\n",
        "      <td> 186139</td>\n",
        "      <td> 180</td>\n",
        "    </tr>\n",
        "    <tr>\n",
        "      <th>10</th>\n",
        "      <td> 10</td>\n",
        "      <td>    40.933333</td>\n",
        "      <td> 4</td>\n",
        "      <td>  98</td>\n",
        "      <td> 118</td>\n",
        "      <td> 60</td>\n",
        "      <td>      Scott_Z8382738.txt</td>\n",
        "      <td> 186139</td>\n",
        "      <td> 180</td>\n",
        "    </tr>\n",
        "    <tr>\n",
        "      <th>11</th>\n",
        "      <td> 11</td>\n",
        "      <td>    33.066667</td>\n",
        "      <td> 4</td>\n",
        "      <td> 125</td>\n",
        "      <td> 100</td>\n",
        "      <td> 80</td>\n",
        "      <td>      Scott_Z8382738.txt</td>\n",
        "      <td> 186139</td>\n",
        "      <td> 180</td>\n",
        "    </tr>\n",
        "    <tr>\n",
        "      <th>0 </th>\n",
        "      <td>  0</td>\n",
        "      <td>    43.066667</td>\n",
        "      <td> 8</td>\n",
        "      <td>  87</td>\n",
        "      <td> 127</td>\n",
        "      <td> 72</td>\n",
        "      <td>                  ZZ.txt</td>\n",
        "      <td>   5949</td>\n",
        "      <td> 180</td>\n",
        "    </tr>\n",
        "    <tr>\n",
        "      <th>1 </th>\n",
        "      <td>  1</td>\n",
        "      <td>    32.733333</td>\n",
        "      <td> 8</td>\n",
        "      <td>  83</td>\n",
        "      <td> 122</td>\n",
        "      <td> 69</td>\n",
        "      <td>                  ZZ.txt</td>\n",
        "      <td>   5949</td>\n",
        "      <td> 180</td>\n",
        "    </tr>\n",
        "    <tr>\n",
        "      <th>2 </th>\n",
        "      <td>  2</td>\n",
        "      <td>    39.333333</td>\n",
        "      <td> 8</td>\n",
        "      <td>  90</td>\n",
        "      <td> 126</td>\n",
        "      <td> 66</td>\n",
        "      <td>                  ZZ.txt</td>\n",
        "      <td>   5949</td>\n",
        "      <td> 180</td>\n",
        "    </tr>\n",
        "    <tr>\n",
        "      <th>3 </th>\n",
        "      <td>  3</td>\n",
        "      <td>    30.200000</td>\n",
        "      <td> 8</td>\n",
        "      <td>  80</td>\n",
        "      <td> 125</td>\n",
        "      <td> 66</td>\n",
        "      <td>                  ZZ.txt</td>\n",
        "      <td>   5949</td>\n",
        "      <td> 180</td>\n",
        "    </tr>\n",
        "    <tr>\n",
        "      <th>4 </th>\n",
        "      <td>  4</td>\n",
        "      <td>    29.666667</td>\n",
        "      <td> 8</td>\n",
        "      <td>  84</td>\n",
        "      <td> 128</td>\n",
        "      <td> 68</td>\n",
        "      <td>                  ZZ.txt</td>\n",
        "      <td>   5949</td>\n",
        "      <td> 180</td>\n",
        "    </tr>\n",
        "    <tr>\n",
        "      <th>5 </th>\n",
        "      <td>  5</td>\n",
        "      <td>    25.266667</td>\n",
        "      <td> 8</td>\n",
        "      <td>  86</td>\n",
        "      <td> 128</td>\n",
        "      <td> 71</td>\n",
        "      <td>                  ZZ.txt</td>\n",
        "      <td>   5949</td>\n",
        "      <td> 180</td>\n",
        "    </tr>\n",
        "    <tr>\n",
        "      <th>...</th>\n",
        "      <td>...</td>\n",
        "      <td>...</td>\n",
        "      <td>...</td>\n",
        "      <td>...</td>\n",
        "      <td>...</td>\n",
        "      <td>...</td>\n",
        "      <td>...</td>\n",
        "      <td>...</td>\n",
        "      <td>...</td>\n",
        "    </tr>\n",
        "    <tr>\n",
        "      <th>6 </th>\n",
        "      <td>  6</td>\n",
        "      <td>    46.733333</td>\n",
        "      <td> 1</td>\n",
        "      <td>  67</td>\n",
        "      <td> 106</td>\n",
        "      <td> 64</td>\n",
        "      <td>       ZZZZZZZZZZZZZ.txt</td>\n",
        "      <td>   8181</td>\n",
        "      <td> 180</td>\n",
        "    </tr>\n",
        "    <tr>\n",
        "      <th>7 </th>\n",
        "      <td>  7</td>\n",
        "      <td>    33.200000</td>\n",
        "      <td> 1</td>\n",
        "      <td>  73</td>\n",
        "      <td> 110</td>\n",
        "      <td> 66</td>\n",
        "      <td>       ZZZZZZZZZZZZZ.txt</td>\n",
        "      <td>   8181</td>\n",
        "      <td> 180</td>\n",
        "    </tr>\n",
        "    <tr>\n",
        "      <th>8 </th>\n",
        "      <td>  8</td>\n",
        "      <td>    36.533333</td>\n",
        "      <td> 1</td>\n",
        "      <td>  77</td>\n",
        "      <td> 114</td>\n",
        "      <td> 66</td>\n",
        "      <td>       ZZZZZZZZZZZZZ.txt</td>\n",
        "      <td>   8181</td>\n",
        "      <td> 180</td>\n",
        "    </tr>\n",
        "    <tr>\n",
        "      <th>9 </th>\n",
        "      <td>  9</td>\n",
        "      <td>    35.571429</td>\n",
        "      <td> 1</td>\n",
        "      <td>  71</td>\n",
        "      <td> 109</td>\n",
        "      <td> 64</td>\n",
        "      <td>       ZZZZZZZZZZZZZ.txt</td>\n",
        "      <td>   8181</td>\n",
        "      <td> 180</td>\n",
        "    </tr>\n",
        "    <tr>\n",
        "      <th>10</th>\n",
        "      <td> 10</td>\n",
        "      <td>   112.066667</td>\n",
        "      <td> 1</td>\n",
        "      <td>  71</td>\n",
        "      <td> 112</td>\n",
        "      <td> 60</td>\n",
        "      <td>       ZZZZZZZZZZZZZ.txt</td>\n",
        "      <td>   8181</td>\n",
        "      <td> 180</td>\n",
        "    </tr>\n",
        "    <tr>\n",
        "      <th>11</th>\n",
        "      <td> 11</td>\n",
        "      <td>    26.933333</td>\n",
        "      <td> 1</td>\n",
        "      <td>  74</td>\n",
        "      <td> 111</td>\n",
        "      <td> 69</td>\n",
        "      <td>       ZZZZZZZZZZZZZ.txt</td>\n",
        "      <td>   8181</td>\n",
        "      <td> 180</td>\n",
        "    </tr>\n",
        "    <tr>\n",
        "      <th>0 </th>\n",
        "      <td>  0</td>\n",
        "      <td>    25.000000</td>\n",
        "      <td> 3</td>\n",
        "      <td>  76</td>\n",
        "      <td> 115</td>\n",
        "      <td> 66</td>\n",
        "      <td>      ZZZZZZZZZZZZZZ.txt</td>\n",
        "      <td>   4851</td>\n",
        "      <td> 180</td>\n",
        "    </tr>\n",
        "    <tr>\n",
        "      <th>1 </th>\n",
        "      <td>  1</td>\n",
        "      <td>    47.600000</td>\n",
        "      <td> 3</td>\n",
        "      <td>  78</td>\n",
        "      <td> 121</td>\n",
        "      <td> 66</td>\n",
        "      <td>      ZZZZZZZZZZZZZZ.txt</td>\n",
        "      <td>   4851</td>\n",
        "      <td> 180</td>\n",
        "    </tr>\n",
        "    <tr>\n",
        "      <th>2 </th>\n",
        "      <td>  2</td>\n",
        "      <td>    18.933333</td>\n",
        "      <td> 3</td>\n",
        "      <td>  75</td>\n",
        "      <td> 123</td>\n",
        "      <td> 67</td>\n",
        "      <td>      ZZZZZZZZZZZZZZ.txt</td>\n",
        "      <td>   4851</td>\n",
        "      <td> 180</td>\n",
        "    </tr>\n",
        "    <tr>\n",
        "      <th>3 </th>\n",
        "      <td>  3</td>\n",
        "      <td>    83.800000</td>\n",
        "      <td> 3</td>\n",
        "      <td>  78</td>\n",
        "      <td> 118</td>\n",
        "      <td> 68</td>\n",
        "      <td>      ZZZZZZZZZZZZZZ.txt</td>\n",
        "      <td>   4851</td>\n",
        "      <td> 180</td>\n",
        "    </tr>\n",
        "    <tr>\n",
        "      <th>4 </th>\n",
        "      <td>  4</td>\n",
        "      <td>    13.600000</td>\n",
        "      <td> 3</td>\n",
        "      <td>  83</td>\n",
        "      <td> 116</td>\n",
        "      <td> 65</td>\n",
        "      <td>      ZZZZZZZZZZZZZZ.txt</td>\n",
        "      <td>   4851</td>\n",
        "      <td> 180</td>\n",
        "    </tr>\n",
        "    <tr>\n",
        "      <th>5 </th>\n",
        "      <td>  5</td>\n",
        "      <td>    12.466667</td>\n",
        "      <td> 3</td>\n",
        "      <td>  79</td>\n",
        "      <td> 122</td>\n",
        "      <td> 65</td>\n",
        "      <td>      ZZZZZZZZZZZZZZ.txt</td>\n",
        "      <td>   4851</td>\n",
        "      <td> 180</td>\n",
        "    </tr>\n",
        "    <tr>\n",
        "      <th>6 </th>\n",
        "      <td>  6</td>\n",
        "      <td>    32.200000</td>\n",
        "      <td> 3</td>\n",
        "      <td>  80</td>\n",
        "      <td> 121</td>\n",
        "      <td> 71</td>\n",
        "      <td>      ZZZZZZZZZZZZZZ.txt</td>\n",
        "      <td>   4851</td>\n",
        "      <td> 180</td>\n",
        "    </tr>\n",
        "    <tr>\n",
        "      <th>7 </th>\n",
        "      <td>  7</td>\n",
        "      <td>    21.533333</td>\n",
        "      <td> 3</td>\n",
        "      <td>  76</td>\n",
        "      <td> 115</td>\n",
        "      <td> 68</td>\n",
        "      <td>      ZZZZZZZZZZZZZZ.txt</td>\n",
        "      <td>   4851</td>\n",
        "      <td> 180</td>\n",
        "    </tr>\n",
        "    <tr>\n",
        "      <th>8 </th>\n",
        "      <td>  8</td>\n",
        "      <td>    17.933333</td>\n",
        "      <td> 3</td>\n",
        "      <td>  74</td>\n",
        "      <td> 114</td>\n",
        "      <td> 64</td>\n",
        "      <td>      ZZZZZZZZZZZZZZ.txt</td>\n",
        "      <td>   4851</td>\n",
        "      <td> 180</td>\n",
        "    </tr>\n",
        "    <tr>\n",
        "      <th>9 </th>\n",
        "      <td>  9</td>\n",
        "      <td>    15.000000</td>\n",
        "      <td> 3</td>\n",
        "      <td>  78</td>\n",
        "      <td> 116</td>\n",
        "      <td> 63</td>\n",
        "      <td>      ZZZZZZZZZZZZZZ.txt</td>\n",
        "      <td>   4851</td>\n",
        "      <td> 180</td>\n",
        "    </tr>\n",
        "    <tr>\n",
        "      <th>10</th>\n",
        "      <td> 10</td>\n",
        "      <td>    18.533333</td>\n",
        "      <td> 3</td>\n",
        "      <td>  79</td>\n",
        "      <td> 116</td>\n",
        "      <td> 64</td>\n",
        "      <td>      ZZZZZZZZZZZZZZ.txt</td>\n",
        "      <td>   4851</td>\n",
        "      <td> 180</td>\n",
        "    </tr>\n",
        "    <tr>\n",
        "      <th>11</th>\n",
        "      <td> 11</td>\n",
        "      <td>    16.800000</td>\n",
        "      <td> 3</td>\n",
        "      <td>  79</td>\n",
        "      <td> 118</td>\n",
        "      <td> 73</td>\n",
        "      <td>      ZZZZZZZZZZZZZZ.txt</td>\n",
        "      <td>   4851</td>\n",
        "      <td> 180</td>\n",
        "    </tr>\n",
        "    <tr>\n",
        "      <th>0 </th>\n",
        "      <td>  0</td>\n",
        "      <td>    18.866667</td>\n",
        "      <td> 2</td>\n",
        "      <td>  75</td>\n",
        "      <td> 109</td>\n",
        "      <td> 71</td>\n",
        "      <td>     ZZZZZZZZZZZZZZZ.txt</td>\n",
        "      <td>   3035</td>\n",
        "      <td> 180</td>\n",
        "    </tr>\n",
        "    <tr>\n",
        "      <th>1 </th>\n",
        "      <td>  1</td>\n",
        "      <td>    12.733333</td>\n",
        "      <td> 2</td>\n",
        "      <td>  73</td>\n",
        "      <td> 119</td>\n",
        "      <td> 75</td>\n",
        "      <td>     ZZZZZZZZZZZZZZZ.txt</td>\n",
        "      <td>   3035</td>\n",
        "      <td> 180</td>\n",
        "    </tr>\n",
        "    <tr>\n",
        "      <th>2 </th>\n",
        "      <td>  2</td>\n",
        "      <td>     8.933333</td>\n",
        "      <td> 2</td>\n",
        "      <td>  74</td>\n",
        "      <td> 117</td>\n",
        "      <td> 73</td>\n",
        "      <td>     ZZZZZZZZZZZZZZZ.txt</td>\n",
        "      <td>   3035</td>\n",
        "      <td> 180</td>\n",
        "    </tr>\n",
        "    <tr>\n",
        "      <th>3 </th>\n",
        "      <td>  3</td>\n",
        "      <td>    14.666667</td>\n",
        "      <td> 2</td>\n",
        "      <td>  74</td>\n",
        "      <td> 124</td>\n",
        "      <td> 72</td>\n",
        "      <td>     ZZZZZZZZZZZZZZZ.txt</td>\n",
        "      <td>   3035</td>\n",
        "      <td> 180</td>\n",
        "    </tr>\n",
        "    <tr>\n",
        "      <th>4 </th>\n",
        "      <td>  4</td>\n",
        "      <td>    11.066667</td>\n",
        "      <td> 2</td>\n",
        "      <td>  69</td>\n",
        "      <td> 122</td>\n",
        "      <td> 68</td>\n",
        "      <td>     ZZZZZZZZZZZZZZZ.txt</td>\n",
        "      <td>   3035</td>\n",
        "      <td> 180</td>\n",
        "    </tr>\n",
        "    <tr>\n",
        "      <th>5 </th>\n",
        "      <td>  5</td>\n",
        "      <td>    15.733333</td>\n",
        "      <td> 2</td>\n",
        "      <td>  75</td>\n",
        "      <td> 113</td>\n",
        "      <td> 71</td>\n",
        "      <td>     ZZZZZZZZZZZZZZZ.txt</td>\n",
        "      <td>   3035</td>\n",
        "      <td> 180</td>\n",
        "    </tr>\n",
        "    <tr>\n",
        "      <th>6 </th>\n",
        "      <td>  6</td>\n",
        "      <td>    23.666667</td>\n",
        "      <td> 2</td>\n",
        "      <td>  74</td>\n",
        "      <td> 115</td>\n",
        "      <td> 66</td>\n",
        "      <td>     ZZZZZZZZZZZZZZZ.txt</td>\n",
        "      <td>   3035</td>\n",
        "      <td> 180</td>\n",
        "    </tr>\n",
        "    <tr>\n",
        "      <th>7 </th>\n",
        "      <td>  7</td>\n",
        "      <td>    18.533333</td>\n",
        "      <td> 2</td>\n",
        "      <td>  82</td>\n",
        "      <td> 116</td>\n",
        "      <td> 65</td>\n",
        "      <td>     ZZZZZZZZZZZZZZZ.txt</td>\n",
        "      <td>   3035</td>\n",
        "      <td> 180</td>\n",
        "    </tr>\n",
        "    <tr>\n",
        "      <th>8 </th>\n",
        "      <td>  8</td>\n",
        "      <td>    15.200000</td>\n",
        "      <td> 2</td>\n",
        "      <td>  70</td>\n",
        "      <td> 124</td>\n",
        "      <td> 78</td>\n",
        "      <td>     ZZZZZZZZZZZZZZZ.txt</td>\n",
        "      <td>   3035</td>\n",
        "      <td> 180</td>\n",
        "    </tr>\n",
        "    <tr>\n",
        "      <th>9 </th>\n",
        "      <td>  9</td>\n",
        "      <td>    18.133333</td>\n",
        "      <td> 2</td>\n",
        "      <td>  64</td>\n",
        "      <td> 113</td>\n",
        "      <td> 67</td>\n",
        "      <td>     ZZZZZZZZZZZZZZZ.txt</td>\n",
        "      <td>   3035</td>\n",
        "      <td> 180</td>\n",
        "    </tr>\n",
        "    <tr>\n",
        "      <th>10</th>\n",
        "      <td> 10</td>\n",
        "      <td>    23.733333</td>\n",
        "      <td> 2</td>\n",
        "      <td>  65</td>\n",
        "      <td> 116</td>\n",
        "      <td> 71</td>\n",
        "      <td>     ZZZZZZZZZZZZZZZ.txt</td>\n",
        "      <td>   3035</td>\n",
        "      <td> 180</td>\n",
        "    </tr>\n",
        "    <tr>\n",
        "      <th>11</th>\n",
        "      <td> 11</td>\n",
        "      <td>    21.066667</td>\n",
        "      <td> 2</td>\n",
        "      <td>  73</td>\n",
        "      <td> 122</td>\n",
        "      <td> 69</td>\n",
        "      <td>     ZZZZZZZZZZZZZZZ.txt</td>\n",
        "      <td>   3035</td>\n",
        "      <td> 180</td>\n",
        "    </tr>\n",
        "  </tbody>\n",
        "</table>\n",
        "<p>183 rows \u00d7 9 columns</p>\n",
        "</div>"
       ],
       "metadata": {},
       "output_type": "pyout",
       "prompt_number": 104,
       "text": [
        "    section_number     abs_error  condition_number  bp_d  bp_s  pulse  \\\n",
        "0                0     18.333333                 5    73    97     81   \n",
        "1                1     17.800000                 5    56   104     80   \n",
        "2                2     11.600000                 5    59    99     77   \n",
        "3                3     16.533333                 5    60   101     79   \n",
        "4                4     20.533333                 5    63    99     81   \n",
        "5                5     14.666667                 5    69   104     81   \n",
        "6                6     24.666667                 5    70   110     82   \n",
        "7                7      9.466667                 5    68   103     78   \n",
        "8                8     17.333333                 5    64   103     80   \n",
        "9                9     11.666667                 5    66   113     86   \n",
        "10              10     18.600000                 5    70   107     85   \n",
        "11              11     18.333333                 5    74   114     82   \n",
        "0                0     17.428571                 4    77   121     66   \n",
        "1                1     81.933333                 4    80   121     70   \n",
        "2                2  12009.933333                 4    82   119     68   \n",
        "3                3     19.200000                 4    81   123     73   \n",
        "4                4     28.066667                 4    75   119     68   \n",
        "5                5     84.600000                 4    72    96     78   \n",
        "6                6     31.933333                 4    85   118     70   \n",
        "7                7     16.533333                 4    82   136     68   \n",
        "8                8     14.933333                 4    66   118     65   \n",
        "9                9     31.866667                 4    77   115     72   \n",
        "10              10     40.933333                 4    98   118     60   \n",
        "11              11     33.066667                 4   125   100     80   \n",
        "0                0     43.066667                 8    87   127     72   \n",
        "1                1     32.733333                 8    83   122     69   \n",
        "2                2     39.333333                 8    90   126     66   \n",
        "3                3     30.200000                 8    80   125     66   \n",
        "4                4     29.666667                 8    84   128     68   \n",
        "5                5     25.266667                 8    86   128     71   \n",
        "..             ...           ...               ...   ...   ...    ...   \n",
        "6                6     46.733333                 1    67   106     64   \n",
        "7                7     33.200000                 1    73   110     66   \n",
        "8                8     36.533333                 1    77   114     66   \n",
        "9                9     35.571429                 1    71   109     64   \n",
        "10              10    112.066667                 1    71   112     60   \n",
        "11              11     26.933333                 1    74   111     69   \n",
        "0                0     25.000000                 3    76   115     66   \n",
        "1                1     47.600000                 3    78   121     66   \n",
        "2                2     18.933333                 3    75   123     67   \n",
        "3                3     83.800000                 3    78   118     68   \n",
        "4                4     13.600000                 3    83   116     65   \n",
        "5                5     12.466667                 3    79   122     65   \n",
        "6                6     32.200000                 3    80   121     71   \n",
        "7                7     21.533333                 3    76   115     68   \n",
        "8                8     17.933333                 3    74   114     64   \n",
        "9                9     15.000000                 3    78   116     63   \n",
        "10              10     18.533333                 3    79   116     64   \n",
        "11              11     16.800000                 3    79   118     73   \n",
        "0                0     18.866667                 2    75   109     71   \n",
        "1                1     12.733333                 2    73   119     75   \n",
        "2                2      8.933333                 2    74   117     73   \n",
        "3                3     14.666667                 2    74   124     72   \n",
        "4                4     11.066667                 2    69   122     68   \n",
        "5                5     15.733333                 2    75   113     71   \n",
        "6                6     23.666667                 2    74   115     66   \n",
        "7                7     18.533333                 2    82   116     65   \n",
        "8                8     15.200000                 2    70   124     78   \n",
        "9                9     18.133333                 2    64   113     67   \n",
        "10              10     23.733333                 2    65   116     71   \n",
        "11              11     21.066667                 2    73   122     69   \n",
        "\n",
        "                 respondent  total_abs_error  total_abs_obs  \n",
        "0   Salisbury_A45745437.txt             2993            180  \n",
        "1   Salisbury_A45745437.txt             2993            180  \n",
        "2   Salisbury_A45745437.txt             2993            180  \n",
        "3   Salisbury_A45745437.txt             2993            180  \n",
        "4   Salisbury_A45745437.txt             2993            180  \n",
        "5   Salisbury_A45745437.txt             2993            180  \n",
        "6   Salisbury_A45745437.txt             2993            180  \n",
        "7   Salisbury_A45745437.txt             2993            180  \n",
        "8   Salisbury_A45745437.txt             2993            180  \n",
        "9   Salisbury_A45745437.txt             2993            180  \n",
        "10  Salisbury_A45745437.txt             2993            180  \n",
        "11  Salisbury_A45745437.txt             2993            180  \n",
        "0        Scott_Z8382738.txt           186139            180  \n",
        "1        Scott_Z8382738.txt           186139            180  \n",
        "2        Scott_Z8382738.txt           186139            180  \n",
        "3        Scott_Z8382738.txt           186139            180  \n",
        "4        Scott_Z8382738.txt           186139            180  \n",
        "5        Scott_Z8382738.txt           186139            180  \n",
        "6        Scott_Z8382738.txt           186139            180  \n",
        "7        Scott_Z8382738.txt           186139            180  \n",
        "8        Scott_Z8382738.txt           186139            180  \n",
        "9        Scott_Z8382738.txt           186139            180  \n",
        "10       Scott_Z8382738.txt           186139            180  \n",
        "11       Scott_Z8382738.txt           186139            180  \n",
        "0                    ZZ.txt             5949            180  \n",
        "1                    ZZ.txt             5949            180  \n",
        "2                    ZZ.txt             5949            180  \n",
        "3                    ZZ.txt             5949            180  \n",
        "4                    ZZ.txt             5949            180  \n",
        "5                    ZZ.txt             5949            180  \n",
        "..                      ...              ...            ...  \n",
        "6         ZZZZZZZZZZZZZ.txt             8181            180  \n",
        "7         ZZZZZZZZZZZZZ.txt             8181            180  \n",
        "8         ZZZZZZZZZZZZZ.txt             8181            180  \n",
        "9         ZZZZZZZZZZZZZ.txt             8181            180  \n",
        "10        ZZZZZZZZZZZZZ.txt             8181            180  \n",
        "11        ZZZZZZZZZZZZZ.txt             8181            180  \n",
        "0        ZZZZZZZZZZZZZZ.txt             4851            180  \n",
        "1        ZZZZZZZZZZZZZZ.txt             4851            180  \n",
        "2        ZZZZZZZZZZZZZZ.txt             4851            180  \n",
        "3        ZZZZZZZZZZZZZZ.txt             4851            180  \n",
        "4        ZZZZZZZZZZZZZZ.txt             4851            180  \n",
        "5        ZZZZZZZZZZZZZZ.txt             4851            180  \n",
        "6        ZZZZZZZZZZZZZZ.txt             4851            180  \n",
        "7        ZZZZZZZZZZZZZZ.txt             4851            180  \n",
        "8        ZZZZZZZZZZZZZZ.txt             4851            180  \n",
        "9        ZZZZZZZZZZZZZZ.txt             4851            180  \n",
        "10       ZZZZZZZZZZZZZZ.txt             4851            180  \n",
        "11       ZZZZZZZZZZZZZZ.txt             4851            180  \n",
        "0       ZZZZZZZZZZZZZZZ.txt             3035            180  \n",
        "1       ZZZZZZZZZZZZZZZ.txt             3035            180  \n",
        "2       ZZZZZZZZZZZZZZZ.txt             3035            180  \n",
        "3       ZZZZZZZZZZZZZZZ.txt             3035            180  \n",
        "4       ZZZZZZZZZZZZZZZ.txt             3035            180  \n",
        "5       ZZZZZZZZZZZZZZZ.txt             3035            180  \n",
        "6       ZZZZZZZZZZZZZZZ.txt             3035            180  \n",
        "7       ZZZZZZZZZZZZZZZ.txt             3035            180  \n",
        "8       ZZZZZZZZZZZZZZZ.txt             3035            180  \n",
        "9       ZZZZZZZZZZZZZZZ.txt             3035            180  \n",
        "10      ZZZZZZZZZZZZZZZ.txt             3035            180  \n",
        "11      ZZZZZZZZZZZZZZZ.txt             3035            180  \n",
        "\n",
        "[183 rows x 9 columns]"
       ]
      }
     ],
     "prompt_number": 104
    },
    {
     "cell_type": "code",
     "collapsed": false,
     "input": [
      "final = df_all.pivot('respondent', 'section_number')\n",
      "final"
     ],
     "language": "python",
     "metadata": {},
     "outputs": [
      {
       "html": [
        "<div style=\"max-height:1000px;max-width:1500px;overflow:auto;\">\n",
        "<table border=\"1\" class=\"dataframe\">\n",
        "  <thead>\n",
        "    <tr>\n",
        "      <th></th>\n",
        "      <th colspan=\"10\" halign=\"left\">abs_error</th>\n",
        "      <th>...</th>\n",
        "      <th colspan=\"10\" halign=\"left\">total_abs_obs</th>\n",
        "    </tr>\n",
        "    <tr>\n",
        "      <th>section_number</th>\n",
        "      <th>0 </th>\n",
        "      <th>1 </th>\n",
        "      <th>2 </th>\n",
        "      <th>3 </th>\n",
        "      <th>4 </th>\n",
        "      <th>5 </th>\n",
        "      <th>6 </th>\n",
        "      <th>7 </th>\n",
        "      <th>8 </th>\n",
        "      <th>9 </th>\n",
        "      <th>...</th>\n",
        "      <th>2 </th>\n",
        "      <th>3 </th>\n",
        "      <th>4 </th>\n",
        "      <th>5 </th>\n",
        "      <th>6 </th>\n",
        "      <th>7 </th>\n",
        "      <th>8 </th>\n",
        "      <th>9 </th>\n",
        "      <th>10</th>\n",
        "      <th>11</th>\n",
        "    </tr>\n",
        "    <tr>\n",
        "      <th>respondent</th>\n",
        "      <th></th>\n",
        "      <th></th>\n",
        "      <th></th>\n",
        "      <th></th>\n",
        "      <th></th>\n",
        "      <th></th>\n",
        "      <th></th>\n",
        "      <th></th>\n",
        "      <th></th>\n",
        "      <th></th>\n",
        "      <th></th>\n",
        "      <th></th>\n",
        "      <th></th>\n",
        "      <th></th>\n",
        "      <th></th>\n",
        "      <th></th>\n",
        "      <th></th>\n",
        "      <th></th>\n",
        "      <th></th>\n",
        "      <th></th>\n",
        "      <th></th>\n",
        "    </tr>\n",
        "  </thead>\n",
        "  <tbody>\n",
        "    <tr>\n",
        "      <th>Salisbury_A45745437.txt</th>\n",
        "      <td>  18.333333</td>\n",
        "      <td> 17.800000</td>\n",
        "      <td>    11.600000</td>\n",
        "      <td> 16.533333</td>\n",
        "      <td> 20.533333</td>\n",
        "      <td> 14.666667</td>\n",
        "      <td> 24.666667</td>\n",
        "      <td>  9.466667</td>\n",
        "      <td> 17.333333</td>\n",
        "      <td> 11.666667</td>\n",
        "      <td>...</td>\n",
        "      <td> 180</td>\n",
        "      <td> 180</td>\n",
        "      <td> 180</td>\n",
        "      <td> 180</td>\n",
        "      <td> 180</td>\n",
        "      <td> 180</td>\n",
        "      <td> 180</td>\n",
        "      <td> 180</td>\n",
        "      <td> 180</td>\n",
        "      <td> 180</td>\n",
        "    </tr>\n",
        "    <tr>\n",
        "      <th>Scott_Z8382738.txt</th>\n",
        "      <td>  17.428571</td>\n",
        "      <td> 81.933333</td>\n",
        "      <td> 12009.933333</td>\n",
        "      <td> 19.200000</td>\n",
        "      <td> 28.066667</td>\n",
        "      <td> 84.600000</td>\n",
        "      <td> 31.933333</td>\n",
        "      <td> 16.533333</td>\n",
        "      <td> 14.933333</td>\n",
        "      <td> 31.866667</td>\n",
        "      <td>...</td>\n",
        "      <td> 180</td>\n",
        "      <td> 180</td>\n",
        "      <td> 180</td>\n",
        "      <td> 180</td>\n",
        "      <td> 180</td>\n",
        "      <td> 180</td>\n",
        "      <td> 180</td>\n",
        "      <td> 180</td>\n",
        "      <td> 180</td>\n",
        "      <td> 180</td>\n",
        "    </tr>\n",
        "    <tr>\n",
        "      <th>ZZ.txt</th>\n",
        "      <td>  43.066667</td>\n",
        "      <td> 32.733333</td>\n",
        "      <td>    39.333333</td>\n",
        "      <td> 30.200000</td>\n",
        "      <td> 29.666667</td>\n",
        "      <td> 25.266667</td>\n",
        "      <td> 22.400000</td>\n",
        "      <td> 40.133333</td>\n",
        "      <td> 40.666667</td>\n",
        "      <td> 33.266667</td>\n",
        "      <td>...</td>\n",
        "      <td> 180</td>\n",
        "      <td> 180</td>\n",
        "      <td> 180</td>\n",
        "      <td> 180</td>\n",
        "      <td> 180</td>\n",
        "      <td> 180</td>\n",
        "      <td> 180</td>\n",
        "      <td> 180</td>\n",
        "      <td> 180</td>\n",
        "      <td> NaN</td>\n",
        "    </tr>\n",
        "    <tr>\n",
        "      <th>ZZZ.txt</th>\n",
        "      <td>  43.214286</td>\n",
        "      <td> 45.933333</td>\n",
        "      <td>    26.400000</td>\n",
        "      <td> 21.466667</td>\n",
        "      <td> 38.333333</td>\n",
        "      <td> 32.266667</td>\n",
        "      <td> 35.733333</td>\n",
        "      <td> 25.642857</td>\n",
        "      <td> 32.866667</td>\n",
        "      <td>       NaN</td>\n",
        "      <td>...</td>\n",
        "      <td> 180</td>\n",
        "      <td> 180</td>\n",
        "      <td> 180</td>\n",
        "      <td> 180</td>\n",
        "      <td> 180</td>\n",
        "      <td> 180</td>\n",
        "      <td> 180</td>\n",
        "      <td> NaN</td>\n",
        "      <td> 180</td>\n",
        "      <td> 180</td>\n",
        "    </tr>\n",
        "    <tr>\n",
        "      <th>ZZZZ.txt</th>\n",
        "      <td>  21.333333</td>\n",
        "      <td> 29.333333</td>\n",
        "      <td>    24.133333</td>\n",
        "      <td> 28.266667</td>\n",
        "      <td> 20.400000</td>\n",
        "      <td> 28.600000</td>\n",
        "      <td> 18.333333</td>\n",
        "      <td> 22.400000</td>\n",
        "      <td> 25.000000</td>\n",
        "      <td> 22.400000</td>\n",
        "      <td>...</td>\n",
        "      <td> 180</td>\n",
        "      <td> 180</td>\n",
        "      <td> 180</td>\n",
        "      <td> 180</td>\n",
        "      <td> 180</td>\n",
        "      <td> 180</td>\n",
        "      <td> 180</td>\n",
        "      <td> 180</td>\n",
        "      <td> 180</td>\n",
        "      <td> NaN</td>\n",
        "    </tr>\n",
        "    <tr>\n",
        "      <th>ZZZZZ.txt</th>\n",
        "      <td>  21.928571</td>\n",
        "      <td> 14.000000</td>\n",
        "      <td>    13.066667</td>\n",
        "      <td> 26.266667</td>\n",
        "      <td> 20.133333</td>\n",
        "      <td> 12.600000</td>\n",
        "      <td> 25.571429</td>\n",
        "      <td> 24.666667</td>\n",
        "      <td> 15.666667</td>\n",
        "      <td> 22.333333</td>\n",
        "      <td>...</td>\n",
        "      <td> 180</td>\n",
        "      <td> 180</td>\n",
        "      <td> 180</td>\n",
        "      <td> 180</td>\n",
        "      <td> 180</td>\n",
        "      <td> 180</td>\n",
        "      <td> 180</td>\n",
        "      <td> 180</td>\n",
        "      <td> 180</td>\n",
        "      <td> NaN</td>\n",
        "    </tr>\n",
        "    <tr>\n",
        "      <th>ZZZZZZ.txt</th>\n",
        "      <td>  42.285714</td>\n",
        "      <td> 38.615385</td>\n",
        "      <td>    37.266667</td>\n",
        "      <td> 39.200000</td>\n",
        "      <td> 55.066667</td>\n",
        "      <td> 46.230769</td>\n",
        "      <td> 26.600000</td>\n",
        "      <td> 19.466667</td>\n",
        "      <td> 20.066667</td>\n",
        "      <td> 24.266667</td>\n",
        "      <td>...</td>\n",
        "      <td> 180</td>\n",
        "      <td> 180</td>\n",
        "      <td> 180</td>\n",
        "      <td> 180</td>\n",
        "      <td> 180</td>\n",
        "      <td> 180</td>\n",
        "      <td> 180</td>\n",
        "      <td> 180</td>\n",
        "      <td> 180</td>\n",
        "      <td> NaN</td>\n",
        "    </tr>\n",
        "    <tr>\n",
        "      <th>ZZZZZZZ.txt</th>\n",
        "      <td>  17.428571</td>\n",
        "      <td> 24.533333</td>\n",
        "      <td>    13.214286</td>\n",
        "      <td> 17.384615</td>\n",
        "      <td> 14.266667</td>\n",
        "      <td>  8.866667</td>\n",
        "      <td> 25.866667</td>\n",
        "      <td> 18.066667</td>\n",
        "      <td> 12.800000</td>\n",
        "      <td> 10.733333</td>\n",
        "      <td>...</td>\n",
        "      <td> 180</td>\n",
        "      <td> 180</td>\n",
        "      <td> 180</td>\n",
        "      <td> 180</td>\n",
        "      <td> 180</td>\n",
        "      <td> 180</td>\n",
        "      <td> 180</td>\n",
        "      <td> 180</td>\n",
        "      <td> 180</td>\n",
        "      <td> NaN</td>\n",
        "    </tr>\n",
        "    <tr>\n",
        "      <th>ZZZZZZZZ.txt</th>\n",
        "      <td>  17.714286</td>\n",
        "      <td> 30.600000</td>\n",
        "      <td>    20.733333</td>\n",
        "      <td> 18.266667</td>\n",
        "      <td> 16.533333</td>\n",
        "      <td> 22.000000</td>\n",
        "      <td> 34.133333</td>\n",
        "      <td> 22.466667</td>\n",
        "      <td> 16.000000</td>\n",
        "      <td> 22.200000</td>\n",
        "      <td>...</td>\n",
        "      <td> 180</td>\n",
        "      <td> 180</td>\n",
        "      <td> 180</td>\n",
        "      <td> 180</td>\n",
        "      <td> 180</td>\n",
        "      <td> 180</td>\n",
        "      <td> 180</td>\n",
        "      <td> 180</td>\n",
        "      <td> 180</td>\n",
        "      <td> 180</td>\n",
        "    </tr>\n",
        "    <tr>\n",
        "      <th>ZZZZZZZZZ.txt</th>\n",
        "      <td>        NaN</td>\n",
        "      <td> 28.571429</td>\n",
        "      <td>    32.333333</td>\n",
        "      <td> 35.400000</td>\n",
        "      <td> 39.533333</td>\n",
        "      <td> 32.733333</td>\n",
        "      <td> 19.866667</td>\n",
        "      <td> 13.466667</td>\n",
        "      <td> 17.666667</td>\n",
        "      <td> 21.266667</td>\n",
        "      <td>...</td>\n",
        "      <td> 180</td>\n",
        "      <td> 180</td>\n",
        "      <td> 180</td>\n",
        "      <td> 180</td>\n",
        "      <td> 180</td>\n",
        "      <td> 180</td>\n",
        "      <td> 180</td>\n",
        "      <td> 180</td>\n",
        "      <td> 180</td>\n",
        "      <td> 180</td>\n",
        "    </tr>\n",
        "    <tr>\n",
        "      <th>ZZZZZZZZZZ.txt</th>\n",
        "      <td>  33.000000</td>\n",
        "      <td> 82.533333</td>\n",
        "      <td>    17.466667</td>\n",
        "      <td> 16.666667</td>\n",
        "      <td> 22.466667</td>\n",
        "      <td> 27.333333</td>\n",
        "      <td> 29.933333</td>\n",
        "      <td> 28.266667</td>\n",
        "      <td> 28.666667</td>\n",
        "      <td> 27.400000</td>\n",
        "      <td>...</td>\n",
        "      <td> 180</td>\n",
        "      <td> 180</td>\n",
        "      <td> 180</td>\n",
        "      <td> 180</td>\n",
        "      <td> 180</td>\n",
        "      <td> 180</td>\n",
        "      <td> 180</td>\n",
        "      <td> 180</td>\n",
        "      <td> 180</td>\n",
        "      <td> NaN</td>\n",
        "    </tr>\n",
        "    <tr>\n",
        "      <th>ZZZZZZZZZZZ.txt</th>\n",
        "      <td>  23.866667</td>\n",
        "      <td> 26.600000</td>\n",
        "      <td>    28.133333</td>\n",
        "      <td> 35.533333</td>\n",
        "      <td> 19.400000</td>\n",
        "      <td> 88.266667</td>\n",
        "      <td> 18.266667</td>\n",
        "      <td> 16.533333</td>\n",
        "      <td> 17.533333</td>\n",
        "      <td> 23.866667</td>\n",
        "      <td>...</td>\n",
        "      <td> 180</td>\n",
        "      <td> 180</td>\n",
        "      <td> 180</td>\n",
        "      <td> 180</td>\n",
        "      <td> 180</td>\n",
        "      <td> 180</td>\n",
        "      <td> 180</td>\n",
        "      <td> 180</td>\n",
        "      <td> 180</td>\n",
        "      <td> NaN</td>\n",
        "    </tr>\n",
        "    <tr>\n",
        "      <th>ZZZZZZZZZZZZ.txt</th>\n",
        "      <td>  25.666667</td>\n",
        "      <td> 27.800000</td>\n",
        "      <td>    49.000000</td>\n",
        "      <td> 21.933333</td>\n",
        "      <td> 17.933333</td>\n",
        "      <td> 20.800000</td>\n",
        "      <td> 24.333333</td>\n",
        "      <td> 21.000000</td>\n",
        "      <td> 17.200000</td>\n",
        "      <td> 18.071429</td>\n",
        "      <td>...</td>\n",
        "      <td> 180</td>\n",
        "      <td> 180</td>\n",
        "      <td> 180</td>\n",
        "      <td> 180</td>\n",
        "      <td> 180</td>\n",
        "      <td> 180</td>\n",
        "      <td> 180</td>\n",
        "      <td> 180</td>\n",
        "      <td> 180</td>\n",
        "      <td> 180</td>\n",
        "    </tr>\n",
        "    <tr>\n",
        "      <th>ZZZZZZZZZZZZZ.txt</th>\n",
        "      <td> 124.400000</td>\n",
        "      <td> 23.533333</td>\n",
        "      <td>    27.200000</td>\n",
        "      <td> 26.133333</td>\n",
        "      <td> 23.266667</td>\n",
        "      <td> 32.200000</td>\n",
        "      <td> 46.733333</td>\n",
        "      <td> 33.200000</td>\n",
        "      <td> 36.533333</td>\n",
        "      <td> 35.571429</td>\n",
        "      <td>...</td>\n",
        "      <td> 180</td>\n",
        "      <td> 180</td>\n",
        "      <td> 180</td>\n",
        "      <td> 180</td>\n",
        "      <td> 180</td>\n",
        "      <td> 180</td>\n",
        "      <td> 180</td>\n",
        "      <td> 180</td>\n",
        "      <td> 180</td>\n",
        "      <td> 180</td>\n",
        "    </tr>\n",
        "    <tr>\n",
        "      <th>ZZZZZZZZZZZZZZ.txt</th>\n",
        "      <td>  25.000000</td>\n",
        "      <td> 47.600000</td>\n",
        "      <td>    18.933333</td>\n",
        "      <td> 83.800000</td>\n",
        "      <td> 13.600000</td>\n",
        "      <td> 12.466667</td>\n",
        "      <td> 32.200000</td>\n",
        "      <td> 21.533333</td>\n",
        "      <td> 17.933333</td>\n",
        "      <td> 15.000000</td>\n",
        "      <td>...</td>\n",
        "      <td> 180</td>\n",
        "      <td> 180</td>\n",
        "      <td> 180</td>\n",
        "      <td> 180</td>\n",
        "      <td> 180</td>\n",
        "      <td> 180</td>\n",
        "      <td> 180</td>\n",
        "      <td> 180</td>\n",
        "      <td> 180</td>\n",
        "      <td> 180</td>\n",
        "    </tr>\n",
        "    <tr>\n",
        "      <th>ZZZZZZZZZZZZZZZ.txt</th>\n",
        "      <td>  18.866667</td>\n",
        "      <td> 12.733333</td>\n",
        "      <td>     8.933333</td>\n",
        "      <td> 14.666667</td>\n",
        "      <td> 11.066667</td>\n",
        "      <td> 15.733333</td>\n",
        "      <td> 23.666667</td>\n",
        "      <td> 18.533333</td>\n",
        "      <td> 15.200000</td>\n",
        "      <td> 18.133333</td>\n",
        "      <td>...</td>\n",
        "      <td> 180</td>\n",
        "      <td> 180</td>\n",
        "      <td> 180</td>\n",
        "      <td> 180</td>\n",
        "      <td> 180</td>\n",
        "      <td> 180</td>\n",
        "      <td> 180</td>\n",
        "      <td> 180</td>\n",
        "      <td> 180</td>\n",
        "      <td> 180</td>\n",
        "    </tr>\n",
        "  </tbody>\n",
        "</table>\n",
        "<p>16 rows \u00d7 84 columns</p>\n",
        "</div>"
       ],
       "metadata": {},
       "output_type": "pyout",
       "prompt_number": 105,
       "text": [
        "                          abs_error                                      \\\n",
        "section_number                   0          1             2          3    \n",
        "respondent                                                                \n",
        "Salisbury_A45745437.txt   18.333333  17.800000     11.600000  16.533333   \n",
        "Scott_Z8382738.txt        17.428571  81.933333  12009.933333  19.200000   \n",
        "ZZ.txt                    43.066667  32.733333     39.333333  30.200000   \n",
        "ZZZ.txt                   43.214286  45.933333     26.400000  21.466667   \n",
        "ZZZZ.txt                  21.333333  29.333333     24.133333  28.266667   \n",
        "ZZZZZ.txt                 21.928571  14.000000     13.066667  26.266667   \n",
        "ZZZZZZ.txt                42.285714  38.615385     37.266667  39.200000   \n",
        "ZZZZZZZ.txt               17.428571  24.533333     13.214286  17.384615   \n",
        "ZZZZZZZZ.txt              17.714286  30.600000     20.733333  18.266667   \n",
        "ZZZZZZZZZ.txt                   NaN  28.571429     32.333333  35.400000   \n",
        "ZZZZZZZZZZ.txt            33.000000  82.533333     17.466667  16.666667   \n",
        "ZZZZZZZZZZZ.txt           23.866667  26.600000     28.133333  35.533333   \n",
        "ZZZZZZZZZZZZ.txt          25.666667  27.800000     49.000000  21.933333   \n",
        "ZZZZZZZZZZZZZ.txt        124.400000  23.533333     27.200000  26.133333   \n",
        "ZZZZZZZZZZZZZZ.txt        25.000000  47.600000     18.933333  83.800000   \n",
        "ZZZZZZZZZZZZZZZ.txt       18.866667  12.733333      8.933333  14.666667   \n",
        "\n",
        "                                                                     \\\n",
        "section_number                  4          5          6          7    \n",
        "respondent                                                            \n",
        "Salisbury_A45745437.txt  20.533333  14.666667  24.666667   9.466667   \n",
        "Scott_Z8382738.txt       28.066667  84.600000  31.933333  16.533333   \n",
        "ZZ.txt                   29.666667  25.266667  22.400000  40.133333   \n",
        "ZZZ.txt                  38.333333  32.266667  35.733333  25.642857   \n",
        "ZZZZ.txt                 20.400000  28.600000  18.333333  22.400000   \n",
        "ZZZZZ.txt                20.133333  12.600000  25.571429  24.666667   \n",
        "ZZZZZZ.txt               55.066667  46.230769  26.600000  19.466667   \n",
        "ZZZZZZZ.txt              14.266667   8.866667  25.866667  18.066667   \n",
        "ZZZZZZZZ.txt             16.533333  22.000000  34.133333  22.466667   \n",
        "ZZZZZZZZZ.txt            39.533333  32.733333  19.866667  13.466667   \n",
        "ZZZZZZZZZZ.txt           22.466667  27.333333  29.933333  28.266667   \n",
        "ZZZZZZZZZZZ.txt          19.400000  88.266667  18.266667  16.533333   \n",
        "ZZZZZZZZZZZZ.txt         17.933333  20.800000  24.333333  21.000000   \n",
        "ZZZZZZZZZZZZZ.txt        23.266667  32.200000  46.733333  33.200000   \n",
        "ZZZZZZZZZZZZZZ.txt       13.600000  12.466667  32.200000  21.533333   \n",
        "ZZZZZZZZZZZZZZZ.txt      11.066667  15.733333  23.666667  18.533333   \n",
        "\n",
        "                                                 ...      total_abs_obs       \\\n",
        "section_number                  8          9     ...                 2    3    \n",
        "respondent                                       ...                           \n",
        "Salisbury_A45745437.txt  17.333333  11.666667    ...                180  180   \n",
        "Scott_Z8382738.txt       14.933333  31.866667    ...                180  180   \n",
        "ZZ.txt                   40.666667  33.266667    ...                180  180   \n",
        "ZZZ.txt                  32.866667        NaN    ...                180  180   \n",
        "ZZZZ.txt                 25.000000  22.400000    ...                180  180   \n",
        "ZZZZZ.txt                15.666667  22.333333    ...                180  180   \n",
        "ZZZZZZ.txt               20.066667  24.266667    ...                180  180   \n",
        "ZZZZZZZ.txt              12.800000  10.733333    ...                180  180   \n",
        "ZZZZZZZZ.txt             16.000000  22.200000    ...                180  180   \n",
        "ZZZZZZZZZ.txt            17.666667  21.266667    ...                180  180   \n",
        "ZZZZZZZZZZ.txt           28.666667  27.400000    ...                180  180   \n",
        "ZZZZZZZZZZZ.txt          17.533333  23.866667    ...                180  180   \n",
        "ZZZZZZZZZZZZ.txt         17.200000  18.071429    ...                180  180   \n",
        "ZZZZZZZZZZZZZ.txt        36.533333  35.571429    ...                180  180   \n",
        "ZZZZZZZZZZZZZZ.txt       17.933333  15.000000    ...                180  180   \n",
        "ZZZZZZZZZZZZZZZ.txt      15.200000  18.133333    ...                180  180   \n",
        "\n",
        "                                                                 \n",
        "section_number            4    5    6    7    8    9    10   11  \n",
        "respondent                                                       \n",
        "Salisbury_A45745437.txt  180  180  180  180  180  180  180  180  \n",
        "Scott_Z8382738.txt       180  180  180  180  180  180  180  180  \n",
        "ZZ.txt                   180  180  180  180  180  180  180  NaN  \n",
        "ZZZ.txt                  180  180  180  180  180  NaN  180  180  \n",
        "ZZZZ.txt                 180  180  180  180  180  180  180  NaN  \n",
        "ZZZZZ.txt                180  180  180  180  180  180  180  NaN  \n",
        "ZZZZZZ.txt               180  180  180  180  180  180  180  NaN  \n",
        "ZZZZZZZ.txt              180  180  180  180  180  180  180  NaN  \n",
        "ZZZZZZZZ.txt             180  180  180  180  180  180  180  180  \n",
        "ZZZZZZZZZ.txt            180  180  180  180  180  180  180  180  \n",
        "ZZZZZZZZZZ.txt           180  180  180  180  180  180  180  NaN  \n",
        "ZZZZZZZZZZZ.txt          180  180  180  180  180  180  180  NaN  \n",
        "ZZZZZZZZZZZZ.txt         180  180  180  180  180  180  180  180  \n",
        "ZZZZZZZZZZZZZ.txt        180  180  180  180  180  180  180  180  \n",
        "ZZZZZZZZZZZZZZ.txt       180  180  180  180  180  180  180  180  \n",
        "ZZZZZZZZZZZZZZZ.txt      180  180  180  180  180  180  180  180  \n",
        "\n",
        "[16 rows x 84 columns]"
       ]
      }
     ],
     "prompt_number": 105
    },
    {
     "cell_type": "code",
     "collapsed": false,
     "input": [
      "final.to_csv(\"bp_pulse.csv\")"
     ],
     "language": "python",
     "metadata": {},
     "outputs": [],
     "prompt_number": 106
    },
    {
     "cell_type": "code",
     "collapsed": false,
     "input": [],
     "language": "python",
     "metadata": {},
     "outputs": []
    }
   ],
   "metadata": {}
  }
 ]
}