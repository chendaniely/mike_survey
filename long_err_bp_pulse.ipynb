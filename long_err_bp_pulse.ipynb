{
 "metadata": {
  "name": "",
  "signature": "sha256:816d594163295dd67becb28b8d4644f45cdd3f44d0d5b4936abf7e690cb556bd"
 },
 "nbformat": 3,
 "nbformat_minor": 0,
 "worksheets": [
  {
   "cells": [
    {
     "cell_type": "code",
     "collapsed": false,
     "input": [
      "import pandas as pd\n",
      "import numpy as np\n",
      "import glob\n",
      "import re\n",
      "import unicodedata\n",
      "import string"
     ],
     "language": "python",
     "metadata": {},
     "outputs": []
    },
    {
     "cell_type": "code",
     "collapsed": false,
     "input": [
      "response_files = glob.glob(\"*.txt\")\n",
      "response_files"
     ],
     "language": "python",
     "metadata": {},
     "outputs": []
    },
    {
     "cell_type": "code",
     "collapsed": false,
     "input": [
      "def data_set_column_names():\n",
      "    colnames = ['time', 'orgi_trial', 'adv', 'mksh', 'revg', 'price_d', 'price_r', 'estm_orig', 'time_r', \n",
      "                'participant_response', 'condition_number', \n",
      "                'bp_s', 'bp_d', 'pulse']\n",
      "    assert isinstance(colnames, list)\n",
      "    return colnames"
     ],
     "language": "python",
     "metadata": {},
     "outputs": []
    },
    {
     "cell_type": "code",
     "collapsed": false,
     "input": [
      "def read_into_dataframe(response_file):\n",
      "    return pd.read_csv(response_file, names = data_set_column_names())"
     ],
     "language": "python",
     "metadata": {},
     "outputs": []
    },
    {
     "cell_type": "code",
     "collapsed": false,
     "input": [
      "def generate_sections():\n",
      "    my_list = []\n",
      "    for i in range(12):\n",
      "        for j in range(15):\n",
      "            my_list.append(i)\n",
      "    assert len(my_list) == 180\n",
      "    return pd.DataFrame(my_list, columns=['section_number'])"
     ],
     "language": "python",
     "metadata": {},
     "outputs": []
    },
    {
     "cell_type": "code",
     "collapsed": false,
     "input": [
      "def get_dataframe(response_file):\n",
      "    data = read_into_dataframe(response_file)\n",
      "    data = data.applymap(lambda x: np.nan if x == \"None\" else x)\n",
      "    return data"
     ],
     "language": "python",
     "metadata": {},
     "outputs": []
    },
    {
     "cell_type": "code",
     "collapsed": false,
     "input": [
      "def get_cols_of_interest(df):\n",
      "    col_of_interest = ['price_r', 'participant_response', 'condition_number', 'bp_d', 'bp_s', 'pulse']\n",
      "    assert isinstance(col_of_interest, list)\n",
      "    data_of_interest = df[col_of_interest]\n",
      "    return data_of_interest"
     ],
     "language": "python",
     "metadata": {},
     "outputs": []
    },
    {
     "cell_type": "code",
     "collapsed": false,
     "input": [
      "def strip_non_numeric_characters(user_input):\n",
      "    non_decimal = re.compile(r'[^\\d.]+')\n",
      "    return non_decimal.sub('', user_input)"
     ],
     "language": "python",
     "metadata": {},
     "outputs": []
    },
    {
     "cell_type": "code",
     "collapsed": false,
     "input": [
      "def remove_control_characters(df):\n",
      "    df['participant_response'] = df['participant_response'].str.replace('\\[D', '')\n",
      "    df['participant_response'] = df['participant_response'].str.replace('\\[A', '')\n",
      "    return df"
     ],
     "language": "python",
     "metadata": {},
     "outputs": []
    },
    {
     "cell_type": "code",
     "collapsed": false,
     "input": [
      "def clean_dataframe(df):\n",
      "    # print(df.head(n = 20))\n",
      "    df = remove_control_characters(df)\n",
      "    \n",
      "    # remove non numeric numbers\n",
      "    non_decimal = re.compile(r'[^\\d.]+')\n",
      "    df['participant_response'] = df['participant_response'].map(lambda x: non_decimal.sub('', str(x)))\n",
      "    \n",
      "    # replace empty strings with nan\n",
      "    df['participant_response'] = df['participant_response'].replace('', np.nan)\n",
      "\n",
      "    # df['participant_response'] = df['participant_response'].map(lambda x: float(x.strip()))\n",
      "\n",
      "    # df.to_csv(\"temp_df.csv\")\n",
      "    # df['abs_error'] = abs(df['price_r'].astype(float) - df['participant_response'].astype(float))\n",
      "    df['abs_error'] = abs(df['price_r'].convert_objects(convert_dates=False, convert_numeric=True) - \n",
      "                          df['participant_response'].convert_objects(convert_dates=False, convert_numeric=True))\n",
      "\n",
      "    data_with_group = pd.concat([df, generate_sections()], axis=1)\n",
      "\n",
      "    # get average error per section\n",
      "    avg_abs_error = pd.DataFrame(data_with_group.groupby('section_number').agg({'abs_error':np.mean}))\n",
      "    # avg_abs_error = pd.DataFrame(data_with_group.groupby('section_number').mean())\n",
      "\n",
      "    # aet condition number, bp, pulse and section number\n",
      "    data_drop_na = data_with_group\n",
      "    data_drop_na = data_drop_na.dropna()[['condition_number', 'bp_d', 'bp_s', 'pulse', 'section_number']]\n",
      "\n",
      "    # concatenate the average time by ending time results\n",
      "    avg_abs_error.index.name = 'section_number'\n",
      "    avg_abs_error.reset_index(inplace=True)\n",
      "    \n",
      "    data_merged = pd.merge(avg_abs_error, data_drop_na, on='section_number')\n",
      "    return data_merged"
     ],
     "language": "python",
     "metadata": {},
     "outputs": []
    },
    {
     "cell_type": "code",
     "collapsed": false,
     "input": [
      "def get_totals(response_file):\n",
      "    df = get_dataframe(response_file)\n",
      "    df = get_cols_of_interest(df)\n",
      "    df = remove_control_characters(df)\n",
      "\n",
      "    # remove non numeric numbers\n",
      "    non_decimal = re.compile(r'[^\\d.]+')\n",
      "    df['participant_response'] = df['participant_response'].map(lambda x: non_decimal.sub('', str(x)))\n",
      "    \n",
      "    # replace empty strings with nan\n",
      "    df['participant_response'] = df['participant_response'].replace('', np.nan)\n",
      "    \n",
      "    print(df)\n",
      "    \n",
      "    df['abs_error'] = abs(df['price_r'].astype(float) - df['participant_response'].astype(float))\n",
      "    print(df)\n",
      "    sum_abs_error = df['abs_error'].astype(float).sum(axis=2)\n",
      "    sum_obs = df['participant_response'].count()\n",
      "    return sum_abs_error, sum_obs"
     ],
     "language": "python",
     "metadata": {},
     "outputs": []
    },
    {
     "cell_type": "code",
     "collapsed": false,
     "input": [
      "df_all = pd.DataFrame()\n",
      "for response_file in response_files:\n",
      "    print(response_file, ' start')\n",
      "    df = get_dataframe(response_file)\n",
      "    df = get_cols_of_interest(df)\n",
      "    df = clean_dataframe(df)\n",
      "    df['respondent'] = response_file\n",
      "    \n",
      "    total_abs_error, total_abs_obs = get_totals(response_file)\n",
      "    df['total_abs_error'], df['total_abs_obs'] = total_abs_error, total_abs_obs\n",
      "    df_all = df_all.append(df)\n",
      "    print(response_file, ' finish')\n",
      "df_all"
     ],
     "language": "python",
     "metadata": {},
     "outputs": []
    },
    {
     "cell_type": "code",
     "collapsed": false,
     "input": [
      "final = df_all.pivot('respondent', 'section_number')\n",
      "final"
     ],
     "language": "python",
     "metadata": {},
     "outputs": []
    },
    {
     "cell_type": "code",
     "collapsed": false,
     "input": [
      "final.to_csv(\"bp_pulse.csv\")"
     ],
     "language": "python",
     "metadata": {},
     "outputs": []
    },
    {
     "cell_type": "code",
     "collapsed": false,
     "input": [],
     "language": "python",
     "metadata": {},
     "outputs": []
    }
   ],
   "metadata": {}
  }
 ]
}