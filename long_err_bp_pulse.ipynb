{
 "metadata": {
  "name": "",
  "signature": "sha256:58dfbaa139e542d3b88e8d106173e39f6981d728acf350a0a7907c493219c1db"
 },
 "nbformat": 3,
 "nbformat_minor": 0,
 "worksheets": [
  {
   "cells": [
    {
     "cell_type": "code",
     "collapsed": false,
     "input": [
      "import pandas as pd\n",
      "import numpy as np\n",
      "import glob"
     ],
     "language": "python",
     "metadata": {},
     "outputs": []
    },
    {
     "cell_type": "code",
     "collapsed": false,
     "input": [
      "response_files = glob.glob(\"*.txt\")\n",
      "response_files"
     ],
     "language": "python",
     "metadata": {},
     "outputs": []
    },
    {
     "cell_type": "code",
     "collapsed": false,
     "input": [
      "def data_set_column_names():\n",
      "    colnames = ['time', 'orgi_trial', 'adv', 'mksh', 'revg', 'price_d', 'price_r', 'estm_orig', 'time_r', \n",
      "                'participant_response', 'condition_number', \n",
      "                'bp_s', 'bp_d', 'pulse']\n",
      "    return colnames"
     ],
     "language": "python",
     "metadata": {},
     "outputs": []
    },
    {
     "cell_type": "code",
     "collapsed": false,
     "input": [
      "def read_into_dataframe(response_file):\n",
      "    return pd.read_csv(response_file, names = data_set_column_names())"
     ],
     "language": "python",
     "metadata": {},
     "outputs": []
    },
    {
     "cell_type": "code",
     "collapsed": false,
     "input": [
      "def generate_sections():\n",
      "    my_list = []\n",
      "    for i in range(12):\n",
      "        for j in range(15):\n",
      "            my_list.append(i)\n",
      "    assert len(my_list) == 180\n",
      "    return pd.DataFrame(my_list, columns=['section_number'])"
     ],
     "language": "python",
     "metadata": {},
     "outputs": []
    },
    {
     "cell_type": "code",
     "collapsed": false,
     "input": [
      "df_all = pd.DataFrame()\n",
      "for response_file in response_files:\n",
      "    print(response_file)\n",
      "    data = read_into_dataframe(response_file)\n",
      "    data = data.applymap(lambda x: np.nan if x == \"None\" else x)\n",
      "    print(data)\n",
      "    \n",
      "    col_of_interest = ['estm_orig', 'participant_response', 'condition_number', 'bp_d', 'bp_s', 'pulse']\n",
      "    data_of_interest = data[col_of_interest]\n",
      "    # print(data_of_interest.head(20))\n",
      "    data_of_interest['abs_error'] = abs(data_of_interest['estm_orig'] - data_of_interest['participant_response'])\n",
      "\n",
      "    \n",
      "    data_with_group = pd.concat([data_of_interest, generate_sections()], axis=1)\n",
      "\n",
      "    avg_abs_error = pd.DataFrame(data_with_group.groupby('section_number').agg({\n",
      "        'abs_error':np.mean\n",
      "        }))\n",
      "\n",
      "    data_drop_na = data_with_group\n",
      "    data_drop_na = data_drop_na.dropna()[['condition_number', 'bp_d', 'bp_s', 'pulse', 'section_number']]\n",
      "\n",
      "    avg_abs_error.index.name = 'section_number'\n",
      "    avg_abs_error.reset_index(inplace=True)\n",
      "    data_merged = pd.merge(avg_abs_error, data_drop_na, on='section_number')\n",
      "\n",
      "    colnames = data_merged.columns\n",
      "    df = pd.DataFrame([[response_files[0].split('.')[0], data_merged.at[0, 'condition_number']]],\n",
      "                      columns=['participant', 'condition'])\n",
      "    for line in data_merged.iterrows():\n",
      "        line_data = {}\n",
      "        # print(line)\n",
      "        section_number = str(int(line[1][0]))\n",
      "        # print('section number: ', section_number)\n",
      "\n",
      "        abs_error_key = 'abs_error_' + section_number\n",
      "        abs_error_value = line[1][1]\n",
      "        # print('abs_error_key: ', abs_error_key,' ; abs_error_value: ', abs_error_value)\n",
      "\n",
      "        bp_d_key = 'bp_d_' + section_number\n",
      "        bp_d_value = line[1][3]\n",
      "        # print('bp_d_key: ', bp_d_key,' ; bp_d_value: ', bp_d_value)\n",
      "\n",
      "        bp_s_key = 'bp_s_' + section_number\n",
      "        bp_s_value = line[1][4]\n",
      "        # print('bp_s_key: ', bp_s_key,' ; bp_s_value: ', bp_s_value)\n",
      "\n",
      "        pulse_key = 'pulse_' + section_number\n",
      "        pulse_value = line[1][5]\n",
      "        # print('pulse_key: ', pulse_key,' ; pulse_value: ', pulse_value)\n",
      "\n",
      "        row_df = pd.DataFrame([[abs_error_value, bp_d_value, bp_s_value, pulse_value]],\n",
      "                              columns=[abs_error_key, bp_d_key, bp_s_key, pulse_key])\n",
      "        df = pd.concat([df, row_df],axis=1)\n",
      "    df_all = df_all.append(df)\n",
      "df_all"
     ],
     "language": "python",
     "metadata": {},
     "outputs": []
    },
    {
     "cell_type": "code",
     "collapsed": false,
     "input": [
      "df_all.to_csv(\"bp_pulse.csv\")"
     ],
     "language": "python",
     "metadata": {},
     "outputs": []
    },
    {
     "cell_type": "code",
     "collapsed": false,
     "input": [
      "# this is a test block before loop\n",
      "print(response_files[1])\n",
      "data = read_into_dataframe(response_files[1])\n",
      "\n",
      "col_of_interest = ['estm_orig', 'participant_response', 'condition_number', 'bp_d', 'bp_s', 'pulse']\n",
      "data_of_interest = data[col_of_interest]\n",
      "data_of_interest['abs_error'] = abs(data_of_interest['estm_orig'] - data_of_interest['participant_response'])\n",
      "\n",
      "data_with_group = pd.concat([data_of_interest, generate_sections()], axis=1)\n",
      "\n",
      "avg_abs_error = pd.DataFrame(data_with_group.groupby('section_number').agg({\n",
      "    'abs_error':np.mean\n",
      "    }))\n",
      "\n",
      "data_drop_na = data_with_group\n",
      "data_drop_na = data_drop_na.dropna()[['condition_number', 'bp_d', 'bp_s', 'pulse', 'section_number']]\n",
      "\n",
      "avg_abs_error.index.name = 'section_number'\n",
      "avg_abs_error.reset_index(inplace=True)\n",
      "data_merged = pd.merge(avg_abs_error, data_drop_na, on='section_number')\n",
      "\n",
      "colnames = data_merged.columns\n",
      "df = pd.DataFrame([[response_files[0].split('.')[0], data_merged.at[0, 'condition_number']]],\n",
      "                  columns=['participant', 'condition'])\n",
      "\n",
      "for line in data_merged.iterrows():\n",
      "    line_data = {}\n",
      "    # print(line)\n",
      "    section_number = str(int(line[1][0]))\n",
      "    # print('section number: ', section_number)\n",
      "    \n",
      "    abs_error_key = 'abs_error_' + section_number\n",
      "    abs_error_value = line[1][1]\n",
      "    # print('abs_error_key: ', abs_error_key,' ; abs_error_value: ', abs_error_value)\n",
      "    \n",
      "    bp_d_key = 'bp_d_' + section_number\n",
      "    bp_d_value = line[1][3]\n",
      "    # print('bp_d_key: ', bp_d_key,' ; bp_d_value: ', bp_d_value)\n",
      "    \n",
      "    bp_s_key = 'bp_s_' + section_number\n",
      "    bp_s_value = line[1][4]\n",
      "    # print('bp_s_key: ', bp_s_key,' ; bp_s_value: ', bp_s_value)\n",
      "    \n",
      "    pulse_key = 'pulse_' + section_number\n",
      "    pulse_value = line[1][5]\n",
      "    # print('pulse_key: ', pulse_key,' ; pulse_value: ', pulse_value)\n",
      "    \n",
      "    row_df = pd.DataFrame([[abs_error_value, bp_d_value, bp_s_value, pulse_value]],\n",
      "                          columns=[abs_error_key, bp_d_key, bp_s_key, pulse_key])\n",
      "    df = pd.concat([df, row_df],axis=1)\n",
      "df\n",
      "#data_merged.pivot('section_number', 'condition_number', 'abs_error')"
     ],
     "language": "python",
     "metadata": {},
     "outputs": []
    }
   ],
   "metadata": {}
  }
 ]
}